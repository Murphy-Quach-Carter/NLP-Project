{
 "cells": [
  {
   "cell_type": "markdown",
   "metadata": {},
   "source": [
    "# **Imports:**"
   ]
  },
  {
   "cell_type": "markdown",
   "metadata": {},
   "source": [
    "----"
   ]
  },
  {
   "cell_type": "code",
   "execution_count": 1,
   "metadata": {},
   "outputs": [],
   "source": [
    "from requests import get\n",
    "from bs4 import BeautifulSoup\n",
    "import os\n",
    "import requests\n",
    "import pandas as pd\n",
    "import unicodedata\n",
    "import re\n",
    "import json\n",
    "\n",
    "import matplotlib.pyplot as plt\n",
    "\n",
    "import nltk\n",
    "from nltk.tokenize.toktok import ToktokTokenizer\n",
    "from nltk.corpus import stopwords\n",
    "\n",
    "\n",
    "from pprint import pprint\n",
    "from sklearn.feature_extraction.text import TfidfVectorizer\n",
    "from sklearn.model_selection import train_test_split\n",
    "\n",
    "from sklearn.model_selection import train_test_split\n",
    "from sklearn.impute import SimpleImputer\n",
    "from sklearn.tree import DecisionTreeClassifier, plot_tree, export_text\n",
    "from sklearn.ensemble import RandomForestClassifier\n",
    "from sklearn.neighbors import KNeighborsClassifier\n",
    "from sklearn.dummy import DummyClassifier\n",
    "from sklearn.linear_model import LogisticRegression\n",
    "import acquire\n",
    "import prepare\n",
    "\n",
    "# ignore warnings\n",
    "import warnings\n",
    "warnings.filterwarnings(\"ignore\")"
   ]
  },
  {
   "cell_type": "markdown",
   "metadata": {},
   "source": [
    "-----"
   ]
  },
  {
   "cell_type": "markdown",
   "metadata": {},
   "source": [
    "# **Acquire:**"
   ]
  },
  {
   "cell_type": "code",
   "execution_count": 2,
   "metadata": {},
   "outputs": [],
   "source": [
    "#utilizing json file created from acquire.py, using pandas read json to create a dataframe\n",
    "df = pd.read_json('data2.json')"
   ]
  },
  {
   "cell_type": "code",
   "execution_count": 3,
   "metadata": {},
   "outputs": [
    {
     "data": {
      "text/html": [
       "<div>\n",
       "<style scoped>\n",
       "    .dataframe tbody tr th:only-of-type {\n",
       "        vertical-align: middle;\n",
       "    }\n",
       "\n",
       "    .dataframe tbody tr th {\n",
       "        vertical-align: top;\n",
       "    }\n",
       "\n",
       "    .dataframe thead th {\n",
       "        text-align: right;\n",
       "    }\n",
       "</style>\n",
       "<table border=\"1\" class=\"dataframe\">\n",
       "  <thead>\n",
       "    <tr style=\"text-align: right;\">\n",
       "      <th></th>\n",
       "      <th>repo</th>\n",
       "      <th>language</th>\n",
       "      <th>readme_contents</th>\n",
       "    </tr>\n",
       "  </thead>\n",
       "  <tbody>\n",
       "    <tr>\n",
       "      <th>0</th>\n",
       "      <td>IrisShaders/Iris</td>\n",
       "      <td>Java</td>\n",
       "      <td>![Iris: An open-source shaders mod compatible ...</td>\n",
       "    </tr>\n",
       "    <tr>\n",
       "      <th>1</th>\n",
       "      <td>returntocorp/semgrep</td>\n",
       "      <td>Java</td>\n",
       "      <td>&lt;/br&gt;\\n&lt;p align=\"center\"&gt;\\n    &lt;a href=\"https:...</td>\n",
       "    </tr>\n",
       "    <tr>\n",
       "      <th>2</th>\n",
       "      <td>CaffeineMC/sodium-fabric</td>\n",
       "      <td>Java</td>\n",
       "      <td>&lt;img src=\"src/main/resources/assets/sodium/ico...</td>\n",
       "    </tr>\n",
       "    <tr>\n",
       "      <th>3</th>\n",
       "      <td>keycloak/keycloak</td>\n",
       "      <td>Java</td>\n",
       "      <td># Keycloak\\n\\nKeycloak is an Open Source Ident...</td>\n",
       "    </tr>\n",
       "    <tr>\n",
       "      <th>4</th>\n",
       "      <td>NationalSecurityAgency/ghidra</td>\n",
       "      <td>Java</td>\n",
       "      <td>&lt;img src=\"Ghidra/Features/Base/src/main/resour...</td>\n",
       "    </tr>\n",
       "  </tbody>\n",
       "</table>\n",
       "</div>"
      ],
      "text/plain": [
       "                            repo language  \\\n",
       "0               IrisShaders/Iris     Java   \n",
       "1           returntocorp/semgrep     Java   \n",
       "2       CaffeineMC/sodium-fabric     Java   \n",
       "3              keycloak/keycloak     Java   \n",
       "4  NationalSecurityAgency/ghidra     Java   \n",
       "\n",
       "                                     readme_contents  \n",
       "0  ![Iris: An open-source shaders mod compatible ...  \n",
       "1  </br>\\n<p align=\"center\">\\n    <a href=\"https:...  \n",
       "2  <img src=\"src/main/resources/assets/sodium/ico...  \n",
       "3  # Keycloak\\n\\nKeycloak is an Open Source Ident...  \n",
       "4  <img src=\"Ghidra/Features/Base/src/main/resour...  "
      ]
     },
     "execution_count": 3,
     "metadata": {},
     "output_type": "execute_result"
    }
   ],
   "source": [
    "df.head()"
   ]
  },
  {
   "cell_type": "code",
   "execution_count": 4,
   "metadata": {},
   "outputs": [
    {
     "name": "stdout",
     "output_type": "stream",
     "text": [
      "<class 'pandas.core.frame.DataFrame'>\n",
      "RangeIndex: 225 entries, 0 to 224\n",
      "Data columns (total 3 columns):\n",
      " #   Column           Non-Null Count  Dtype \n",
      "---  ------           --------------  ----- \n",
      " 0   repo             225 non-null    object\n",
      " 1   language         225 non-null    object\n",
      " 2   readme_contents  225 non-null    object\n",
      "dtypes: object(3)\n",
      "memory usage: 5.4+ KB\n"
     ]
    }
   ],
   "source": [
    "#initial is 225 records x 3 fields, all are objects.\n",
    "df.info()"
   ]
  },
  {
   "cell_type": "markdown",
   "metadata": {},
   "source": [
    "------"
   ]
  },
  {
   "cell_type": "markdown",
   "metadata": {},
   "source": [
    "To Do's:\n",
    "\n",
    "1.) drop duplicates, drop nans\n",
    "\n",
    "2.) lower case language and repo columns, and readme_contents as well.\n",
    "\n",
    "3.) drop non alpha-numeric values.\n",
    "\n",
    "4.) Drop words which are excessively long, appears there is combination of words\n",
    "\n"
   ]
  },
  {
   "cell_type": "markdown",
   "metadata": {},
   "source": [
    "------"
   ]
  },
  {
   "cell_type": "markdown",
   "metadata": {},
   "source": [
    "# **Prepare:**"
   ]
  },
  {
   "cell_type": "code",
   "execution_count": 5,
   "metadata": {},
   "outputs": [],
   "source": [
    "#utilizing prepare function which will retrun a df containing original columns and columns which have been normalized, lemmatized, tokenized and had stopwords removed or added.\n",
    "df = prepare.prep_repo_data(df)"
   ]
  },
  {
   "cell_type": "code",
   "execution_count": 6,
   "metadata": {},
   "outputs": [
    {
     "name": "stdout",
     "output_type": "stream",
     "text": [
      "<class 'pandas.core.frame.DataFrame'>\n",
      "Int64Index: 174 entries, 0 to 198\n",
      "Data columns (total 6 columns):\n",
      " #   Column                   Non-Null Count  Dtype \n",
      "---  ------                   --------------  ----- \n",
      " 0   repo_name                174 non-null    object\n",
      " 1   language                 174 non-null    object\n",
      " 2   readme_contents          174 non-null    object\n",
      " 3   repo_name_cleaned        174 non-null    object\n",
      " 4   language_cleaned         174 non-null    object\n",
      " 5   readme_contents_cleaned  174 non-null    object\n",
      "dtypes: object(6)\n",
      "memory usage: 9.5+ KB\n"
     ]
    }
   ],
   "source": [
    "#looking at the initial and new columns.\n",
    "df.info()"
   ]
  },
  {
   "cell_type": "code",
   "execution_count": 7,
   "metadata": {},
   "outputs": [
    {
     "data": {
      "text/plain": [
       "(174, 6)"
      ]
     },
     "execution_count": 7,
     "metadata": {},
     "output_type": "execute_result"
    }
   ],
   "source": [
    "df.shape"
   ]
  },
  {
   "cell_type": "code",
   "execution_count": 8,
   "metadata": {},
   "outputs": [
    {
     "data": {
      "text/html": [
       "<div>\n",
       "<style scoped>\n",
       "    .dataframe tbody tr th:only-of-type {\n",
       "        vertical-align: middle;\n",
       "    }\n",
       "\n",
       "    .dataframe tbody tr th {\n",
       "        vertical-align: top;\n",
       "    }\n",
       "\n",
       "    .dataframe thead th {\n",
       "        text-align: right;\n",
       "    }\n",
       "</style>\n",
       "<table border=\"1\" class=\"dataframe\">\n",
       "  <thead>\n",
       "    <tr style=\"text-align: right;\">\n",
       "      <th></th>\n",
       "      <th>repo_name</th>\n",
       "      <th>language</th>\n",
       "      <th>readme_contents</th>\n",
       "      <th>repo_name_cleaned</th>\n",
       "      <th>language_cleaned</th>\n",
       "      <th>readme_contents_cleaned</th>\n",
       "    </tr>\n",
       "  </thead>\n",
       "  <tbody>\n",
       "    <tr>\n",
       "      <th>0</th>\n",
       "      <td>IrisShaders/Iris</td>\n",
       "      <td>Java</td>\n",
       "      <td>![Iris: An open-source shaders mod compatible ...</td>\n",
       "      <td>irisshadersiris</td>\n",
       "      <td>java</td>\n",
       "      <td>iris opensource shaders mod compatible optifin...</td>\n",
       "    </tr>\n",
       "    <tr>\n",
       "      <th>1</th>\n",
       "      <td>returntocorp/semgrep</td>\n",
       "      <td>Java</td>\n",
       "      <td>&lt;/br&gt;\\n&lt;p align=\"center\"&gt;\\n    &lt;a href=\"https:...</td>\n",
       "      <td>returntocorpsemgrep</td>\n",
       "      <td>java</td>\n",
       "      <td>br p aligncenter hrefhttpssemgrepdevimg srchtt...</td>\n",
       "    </tr>\n",
       "    <tr>\n",
       "      <th>2</th>\n",
       "      <td>CaffeineMC/sodium-fabric</td>\n",
       "      <td>Java</td>\n",
       "      <td>&lt;img src=\"src/main/resources/assets/sodium/ico...</td>\n",
       "      <td>caffeinemcsodiumfabric</td>\n",
       "      <td>java</td>\n",
       "      <td>img srcsrcmainresourcesassetssodiumiconpng wid...</td>\n",
       "    </tr>\n",
       "    <tr>\n",
       "      <th>3</th>\n",
       "      <td>keycloak/keycloak</td>\n",
       "      <td>Java</td>\n",
       "      <td># Keycloak\\n\\nKeycloak is an Open Source Ident...</td>\n",
       "      <td>keycloakkeycloak</td>\n",
       "      <td>java</td>\n",
       "      <td>keycloak keycloak open source identity access ...</td>\n",
       "    </tr>\n",
       "    <tr>\n",
       "      <th>4</th>\n",
       "      <td>NationalSecurityAgency/ghidra</td>\n",
       "      <td>Java</td>\n",
       "      <td>&lt;img src=\"Ghidra/Features/Base/src/main/resour...</td>\n",
       "      <td>nationalsecurityagencyghidra</td>\n",
       "      <td>java</td>\n",
       "      <td>img srcghidrafeaturesbasesrcmainresourcesimage...</td>\n",
       "    </tr>\n",
       "    <tr>\n",
       "      <th>5</th>\n",
       "      <td>alibaba/Sentinel</td>\n",
       "      <td>Java</td>\n",
       "      <td>&lt;img src=\"https://user-images.githubuserconten...</td>\n",
       "      <td>alibabasentinel</td>\n",
       "      <td>java</td>\n",
       "      <td>img srchttpsuserimagesgithubusercontentcom9434...</td>\n",
       "    </tr>\n",
       "    <tr>\n",
       "      <th>6</th>\n",
       "      <td>square/okhttp</td>\n",
       "      <td>Java</td>\n",
       "      <td>OkHttp\\n======\\n\\nSee the [project website][ok...</td>\n",
       "      <td>squareokhttp</td>\n",
       "      <td>java</td>\n",
       "      <td>okhttp see project websiteokhttp documentation...</td>\n",
       "    </tr>\n",
       "    <tr>\n",
       "      <th>7</th>\n",
       "      <td>alibaba/nacos</td>\n",
       "      <td>Java</td>\n",
       "      <td>\\n&lt;img src=\"doc/Nacos_Logo.png\" width=\"50%\" sy...</td>\n",
       "      <td>alibabanacos</td>\n",
       "      <td>java</td>\n",
       "      <td>img srcdocnacos_logopng width50 syt height50 n...</td>\n",
       "    </tr>\n",
       "    <tr>\n",
       "      <th>8</th>\n",
       "      <td>opensearch-project/OpenSearch</td>\n",
       "      <td>Java</td>\n",
       "      <td>&lt;img src=\"https://opensearch.org/assets/brand/...</td>\n",
       "      <td>opensearchprojectopensearch</td>\n",
       "      <td>java</td>\n",
       "      <td>img srchttpsopensearchorgassetsbrandsvglogoope...</td>\n",
       "    </tr>\n",
       "    <tr>\n",
       "      <th>9</th>\n",
       "      <td>sqshq/piggymetrics</td>\n",
       "      <td>Java</td>\n",
       "      <td>[![Build Status](https://travis-ci.org/sqshq/P...</td>\n",
       "      <td>sqshqpiggymetrics</td>\n",
       "      <td>java</td>\n",
       "      <td>build statushttpstravisciorgsqshqpiggymetricss...</td>\n",
       "    </tr>\n",
       "  </tbody>\n",
       "</table>\n",
       "</div>"
      ],
      "text/plain": [
       "                       repo_name language  \\\n",
       "0               IrisShaders/Iris     Java   \n",
       "1           returntocorp/semgrep     Java   \n",
       "2       CaffeineMC/sodium-fabric     Java   \n",
       "3              keycloak/keycloak     Java   \n",
       "4  NationalSecurityAgency/ghidra     Java   \n",
       "5               alibaba/Sentinel     Java   \n",
       "6                  square/okhttp     Java   \n",
       "7                  alibaba/nacos     Java   \n",
       "8  opensearch-project/OpenSearch     Java   \n",
       "9             sqshq/piggymetrics     Java   \n",
       "\n",
       "                                     readme_contents  \\\n",
       "0  ![Iris: An open-source shaders mod compatible ...   \n",
       "1  </br>\\n<p align=\"center\">\\n    <a href=\"https:...   \n",
       "2  <img src=\"src/main/resources/assets/sodium/ico...   \n",
       "3  # Keycloak\\n\\nKeycloak is an Open Source Ident...   \n",
       "4  <img src=\"Ghidra/Features/Base/src/main/resour...   \n",
       "5  <img src=\"https://user-images.githubuserconten...   \n",
       "6  OkHttp\\n======\\n\\nSee the [project website][ok...   \n",
       "7  \\n<img src=\"doc/Nacos_Logo.png\" width=\"50%\" sy...   \n",
       "8  <img src=\"https://opensearch.org/assets/brand/...   \n",
       "9  [![Build Status](https://travis-ci.org/sqshq/P...   \n",
       "\n",
       "              repo_name_cleaned language_cleaned  \\\n",
       "0               irisshadersiris             java   \n",
       "1           returntocorpsemgrep             java   \n",
       "2        caffeinemcsodiumfabric             java   \n",
       "3              keycloakkeycloak             java   \n",
       "4  nationalsecurityagencyghidra             java   \n",
       "5               alibabasentinel             java   \n",
       "6                  squareokhttp             java   \n",
       "7                  alibabanacos             java   \n",
       "8   opensearchprojectopensearch             java   \n",
       "9             sqshqpiggymetrics             java   \n",
       "\n",
       "                             readme_contents_cleaned  \n",
       "0  iris opensource shaders mod compatible optifin...  \n",
       "1  br p aligncenter hrefhttpssemgrepdevimg srchtt...  \n",
       "2  img srcsrcmainresourcesassetssodiumiconpng wid...  \n",
       "3  keycloak keycloak open source identity access ...  \n",
       "4  img srcghidrafeaturesbasesrcmainresourcesimage...  \n",
       "5  img srchttpsuserimagesgithubusercontentcom9434...  \n",
       "6  okhttp see project websiteokhttp documentation...  \n",
       "7  img srcdocnacos_logopng width50 syt height50 n...  \n",
       "8  img srchttpsopensearchorgassetsbrandsvglogoope...  \n",
       "9  build statushttpstravisciorgsqshqpiggymetricss...  "
      ]
     },
     "execution_count": 8,
     "metadata": {},
     "output_type": "execute_result"
    }
   ],
   "source": [
    "df.head(10)"
   ]
  },
  {
   "cell_type": "code",
   "execution_count": 9,
   "metadata": {},
   "outputs": [],
   "source": [
    "java_read_df = df[df.language_cleaned == 'java']\n"
   ]
  },
  {
   "cell_type": "code",
   "execution_count": 10,
   "metadata": {},
   "outputs": [],
   "source": [
    "df['readme_contents_cleaned'] = df['readme_contents_cleaned'].str.findall('\\w{1,18}').str.join(' ')\n"
   ]
  },
  {
   "cell_type": "code",
   "execution_count": null,
   "metadata": {},
   "outputs": [],
   "source": []
  },
  {
   "cell_type": "code",
   "execution_count": 11,
   "metadata": {},
   "outputs": [],
   "source": [
    "def lang_split(df):\n",
    "    '''\n",
    "    This function take in the readme data acquired\n",
    "    performs a split and stratifies language_cleaned column.\n",
    "    Returns train, validate, and test dfs.\n",
    "    '''\n",
    "    train_validate, test = train_test_split(df, test_size=.2, \n",
    "                                        random_state=245, \n",
    "                                        stratify=df.language_cleaned)\n",
    "    train, validate = train_test_split(train_validate, test_size=.3, \n",
    "                                   random_state=245, \n",
    "                                   stratify=train_validate.language_cleaned)\n",
    "    return train, validate, test"
   ]
  },
  {
   "cell_type": "code",
   "execution_count": 12,
   "metadata": {},
   "outputs": [],
   "source": [
    "#splitting the data into a train, validate and test set\n",
    "train, validate, test = lang_split(df)"
   ]
  },
  {
   "cell_type": "code",
   "execution_count": 13,
   "metadata": {},
   "outputs": [
    {
     "data": {
      "text/html": [
       "<div>\n",
       "<style scoped>\n",
       "    .dataframe tbody tr th:only-of-type {\n",
       "        vertical-align: middle;\n",
       "    }\n",
       "\n",
       "    .dataframe tbody tr th {\n",
       "        vertical-align: top;\n",
       "    }\n",
       "\n",
       "    .dataframe thead th {\n",
       "        text-align: right;\n",
       "    }\n",
       "</style>\n",
       "<table border=\"1\" class=\"dataframe\">\n",
       "  <thead>\n",
       "    <tr style=\"text-align: right;\">\n",
       "      <th></th>\n",
       "      <th>repo_name</th>\n",
       "      <th>language</th>\n",
       "      <th>readme_contents</th>\n",
       "      <th>repo_name_cleaned</th>\n",
       "      <th>language_cleaned</th>\n",
       "      <th>readme_contents_cleaned</th>\n",
       "    </tr>\n",
       "  </thead>\n",
       "  <tbody>\n",
       "    <tr>\n",
       "      <th>8</th>\n",
       "      <td>opensearch-project/OpenSearch</td>\n",
       "      <td>Java</td>\n",
       "      <td>&lt;img src=\"https://opensearch.org/assets/brand/...</td>\n",
       "      <td>opensearchprojectopensearch</td>\n",
       "      <td>java</td>\n",
       "      <td>img srchttpsopensearch orgassetsbrandsvgl ogoo...</td>\n",
       "    </tr>\n",
       "    <tr>\n",
       "      <th>196</th>\n",
       "      <td>r-spatial/mapview</td>\n",
       "      <td>R</td>\n",
       "      <td>---\\noutput: github_document\\n---\\n\\n```{r set...</td>\n",
       "      <td>rspatialmapview</td>\n",
       "      <td>r</td>\n",
       "      <td>output github_document r setup include false k...</td>\n",
       "    </tr>\n",
       "    <tr>\n",
       "      <th>95</th>\n",
       "      <td>mlr-org/mlr3misc</td>\n",
       "      <td>R</td>\n",
       "      <td># mlr3misc\\n\\nPackage website: [release](https...</td>\n",
       "      <td>mlrorgmlr3misc</td>\n",
       "      <td>r</td>\n",
       "      <td>mlr3misc package website releasehttpsmlr3mi sc...</td>\n",
       "    </tr>\n",
       "    <tr>\n",
       "      <th>9</th>\n",
       "      <td>sqshq/piggymetrics</td>\n",
       "      <td>Java</td>\n",
       "      <td>[![Build Status](https://travis-ci.org/sqshq/P...</td>\n",
       "      <td>sqshqpiggymetrics</td>\n",
       "      <td>java</td>\n",
       "      <td>build statushttpstravisc iorgsqshqpiggymetr ic...</td>\n",
       "    </tr>\n",
       "    <tr>\n",
       "      <th>60</th>\n",
       "      <td>atom/atom</td>\n",
       "      <td>JavaScript</td>\n",
       "      <td># Atom\\n\\n[![Build status](https://dev.azure.c...</td>\n",
       "      <td>atomatom</td>\n",
       "      <td>javascript</td>\n",
       "      <td>atom build statushttpsdevazur ecomgithubatom_a...</td>\n",
       "    </tr>\n",
       "  </tbody>\n",
       "</table>\n",
       "</div>"
      ],
      "text/plain": [
       "                         repo_name    language  \\\n",
       "8    opensearch-project/OpenSearch        Java   \n",
       "196              r-spatial/mapview           R   \n",
       "95                mlr-org/mlr3misc           R   \n",
       "9               sqshq/piggymetrics        Java   \n",
       "60                       atom/atom  JavaScript   \n",
       "\n",
       "                                       readme_contents  \\\n",
       "8    <img src=\"https://opensearch.org/assets/brand/...   \n",
       "196  ---\\noutput: github_document\\n---\\n\\n```{r set...   \n",
       "95   # mlr3misc\\n\\nPackage website: [release](https...   \n",
       "9    [![Build Status](https://travis-ci.org/sqshq/P...   \n",
       "60   # Atom\\n\\n[![Build status](https://dev.azure.c...   \n",
       "\n",
       "               repo_name_cleaned language_cleaned  \\\n",
       "8    opensearchprojectopensearch             java   \n",
       "196              rspatialmapview                r   \n",
       "95                mlrorgmlr3misc                r   \n",
       "9              sqshqpiggymetrics             java   \n",
       "60                      atomatom       javascript   \n",
       "\n",
       "                               readme_contents_cleaned  \n",
       "8    img srchttpsopensearch orgassetsbrandsvgl ogoo...  \n",
       "196  output github_document r setup include false k...  \n",
       "95   mlr3misc package website releasehttpsmlr3mi sc...  \n",
       "9    build statushttpstravisc iorgsqshqpiggymetr ic...  \n",
       "60   atom build statushttpsdevazur ecomgithubatom_a...  "
      ]
     },
     "execution_count": 13,
     "metadata": {},
     "output_type": "execute_result"
    }
   ],
   "source": [
    "train.head()"
   ]
  },
  {
   "cell_type": "markdown",
   "metadata": {},
   "source": [
    "## df.copy for altering "
   ]
  },
  {
   "cell_type": "markdown",
   "metadata": {},
   "source": [
    "-----"
   ]
  },
  {
   "cell_type": "markdown",
   "metadata": {},
   "source": [
    "# **Exploratory**:"
   ]
  },
  {
   "cell_type": "code",
   "execution_count": 14,
   "metadata": {},
   "outputs": [],
   "source": [
    "java_read = ' '.join(train[train.language_cleaned == 'java'].readme_contents_cleaned)\n",
    "python_read = ' '.join(train[train.language_cleaned == 'python'].readme_contents_cleaned)\n",
    "r_read = ' '.join(train[train.language_cleaned == 'r'].readme_contents_cleaned)\n",
    "javascript_read = ' '.join(train[train.language_cleaned == 'javascript'].readme_contents_cleaned)\n",
    "all_content = ' '.join(train.readme_contents_cleaned)"
   ]
  },
  {
   "cell_type": "code",
   "execution_count": 15,
   "metadata": {},
   "outputs": [
    {
     "data": {
      "text/html": [
       "<div>\n",
       "<style scoped>\n",
       "    .dataframe tbody tr th:only-of-type {\n",
       "        vertical-align: middle;\n",
       "    }\n",
       "\n",
       "    .dataframe tbody tr th {\n",
       "        vertical-align: top;\n",
       "    }\n",
       "\n",
       "    .dataframe thead th {\n",
       "        text-align: right;\n",
       "    }\n",
       "</style>\n",
       "<table border=\"1\" class=\"dataframe\">\n",
       "  <thead>\n",
       "    <tr style=\"text-align: right;\">\n",
       "      <th></th>\n",
       "      <th>n</th>\n",
       "      <th>percent</th>\n",
       "    </tr>\n",
       "  </thead>\n",
       "  <tbody>\n",
       "    <tr>\n",
       "      <th>python</th>\n",
       "      <td>26</td>\n",
       "      <td>0.268041</td>\n",
       "    </tr>\n",
       "    <tr>\n",
       "      <th>javascript</th>\n",
       "      <td>26</td>\n",
       "      <td>0.268041</td>\n",
       "    </tr>\n",
       "    <tr>\n",
       "      <th>java</th>\n",
       "      <td>24</td>\n",
       "      <td>0.247423</td>\n",
       "    </tr>\n",
       "    <tr>\n",
       "      <th>r</th>\n",
       "      <td>21</td>\n",
       "      <td>0.216495</td>\n",
       "    </tr>\n",
       "  </tbody>\n",
       "</table>\n",
       "</div>"
      ],
      "text/plain": [
       "             n   percent\n",
       "python      26  0.268041\n",
       "javascript  26  0.268041\n",
       "java        24  0.247423\n",
       "r           21  0.216495"
      ]
     },
     "execution_count": 15,
     "metadata": {},
     "output_type": "execute_result"
    }
   ],
   "source": [
    "def show_counts_and_ratios(df, column):\n",
    "    \"\"\"\n",
    "    Takes in a dataframe and a string of a single column\n",
    "    Returns a dataframe with absolute value counts and percentage value counts\n",
    "    \"\"\"\n",
    "    labels = pd.concat([df[column].value_counts(),\n",
    "                    df[column].value_counts(normalize=True)], axis=1)\n",
    "    labels.columns = ['n', 'percent']\n",
    "    labels\n",
    "    return labels\n",
    "\n",
    "show_counts_and_ratios(train, \"language_cleaned\")"
   ]
  },
  {
   "cell_type": "code",
   "execution_count": 16,
   "metadata": {},
   "outputs": [],
   "source": [
    "java_freq = pd.Series(java_read.split()).value_counts()\n",
    "python_freq = pd.Series(python_read.split()).value_counts()\n",
    "r_freq= pd.Series(r_read.split()).value_counts()\n",
    "javascript_freq= pd.Series(javascript_read.split()).value_counts()\n",
    "all_freq = pd.Series(all_content.split()).value_counts()"
   ]
  },
  {
   "cell_type": "code",
   "execution_count": 17,
   "metadata": {},
   "outputs": [],
   "source": [
    "word_counts = (pd.concat([java_freq, python_freq, r_freq, javascript_freq, all_freq], axis=1, sort=True)\n",
    "                .fillna(0)\n",
    "                .apply(lambda s: s.astype(int)))\n",
    "\n"
   ]
  },
  {
   "cell_type": "code",
   "execution_count": 18,
   "metadata": {},
   "outputs": [],
   "source": [
    "java_words = re.sub(r'[^\\w\\s]', '', java_read).split()\n",
    "r_words = re.sub(r'[^\\w\\s]', '', r_read).split()\n",
    "python_words = re.sub(r'[^\\w\\s]', '', python_read).split()\n",
    "javascript_words = re.sub(r'[^\\w\\s]', '', javascript_read).split()\n",
    "all_content_words = re.sub(r'[^\\w\\s]', '', all_content).split()\n"
   ]
  },
  {
   "cell_type": "code",
   "execution_count": 19,
   "metadata": {},
   "outputs": [],
   "source": [
    "word_counts.columns = ['java', 'python', 'r', 'javascript', 'all_content']"
   ]
  },
  {
   "cell_type": "code",
   "execution_count": 20,
   "metadata": {},
   "outputs": [
    {
     "data": {
      "text/html": [
       "<div>\n",
       "<style scoped>\n",
       "    .dataframe tbody tr th:only-of-type {\n",
       "        vertical-align: middle;\n",
       "    }\n",
       "\n",
       "    .dataframe tbody tr th {\n",
       "        vertical-align: top;\n",
       "    }\n",
       "\n",
       "    .dataframe thead th {\n",
       "        text-align: right;\n",
       "    }\n",
       "</style>\n",
       "<table border=\"1\" class=\"dataframe\">\n",
       "  <thead>\n",
       "    <tr style=\"text-align: right;\">\n",
       "      <th></th>\n",
       "      <th>java</th>\n",
       "      <th>python</th>\n",
       "      <th>r</th>\n",
       "      <th>javascript</th>\n",
       "      <th>all_content</th>\n",
       "    </tr>\n",
       "  </thead>\n",
       "  <tbody>\n",
       "    <tr>\n",
       "      <th>yes</th>\n",
       "      <td>0</td>\n",
       "      <td>1014</td>\n",
       "      <td>0</td>\n",
       "      <td>9</td>\n",
       "      <td>1023</td>\n",
       "    </tr>\n",
       "    <tr>\n",
       "      <th>unknown</th>\n",
       "      <td>0</td>\n",
       "      <td>626</td>\n",
       "      <td>0</td>\n",
       "      <td>3</td>\n",
       "      <td>629</td>\n",
       "    </tr>\n",
       "    <tr>\n",
       "      <th>data</th>\n",
       "      <td>25</td>\n",
       "      <td>430</td>\n",
       "      <td>99</td>\n",
       "      <td>346</td>\n",
       "      <td>900</td>\n",
       "    </tr>\n",
       "    <tr>\n",
       "      <th>api</th>\n",
       "      <td>33</td>\n",
       "      <td>423</td>\n",
       "      <td>1</td>\n",
       "      <td>45</td>\n",
       "      <td>502</td>\n",
       "    </tr>\n",
       "    <tr>\n",
       "      <th>learning</th>\n",
       "      <td>1</td>\n",
       "      <td>388</td>\n",
       "      <td>9</td>\n",
       "      <td>3</td>\n",
       "      <td>401</td>\n",
       "    </tr>\n",
       "    <tr>\n",
       "      <th>...</th>\n",
       "      <td>...</td>\n",
       "      <td>...</td>\n",
       "      <td>...</td>\n",
       "      <td>...</td>\n",
       "      <td>...</td>\n",
       "    </tr>\n",
       "    <tr>\n",
       "      <th>impatient</th>\n",
       "      <td>0</td>\n",
       "      <td>0</td>\n",
       "      <td>0</td>\n",
       "      <td>2</td>\n",
       "      <td>2</td>\n",
       "    </tr>\n",
       "    <tr>\n",
       "      <th>impalacompanyprofi</th>\n",
       "      <td>0</td>\n",
       "      <td>0</td>\n",
       "      <td>0</td>\n",
       "      <td>1</td>\n",
       "      <td>1</td>\n",
       "    </tr>\n",
       "    <tr>\n",
       "      <th>impactsli</th>\n",
       "      <td>0</td>\n",
       "      <td>0</td>\n",
       "      <td>0</td>\n",
       "      <td>1</td>\n",
       "      <td>1</td>\n",
       "    </tr>\n",
       "    <tr>\n",
       "      <th>impactli</th>\n",
       "      <td>0</td>\n",
       "      <td>0</td>\n",
       "      <td>0</td>\n",
       "      <td>1</td>\n",
       "      <td>1</td>\n",
       "    </tr>\n",
       "    <tr>\n",
       "      <th>zywuzzyr</th>\n",
       "      <td>0</td>\n",
       "      <td>0</td>\n",
       "      <td>1</td>\n",
       "      <td>0</td>\n",
       "      <td>1</td>\n",
       "    </tr>\n",
       "  </tbody>\n",
       "</table>\n",
       "<p>38036 rows × 5 columns</p>\n",
       "</div>"
      ],
      "text/plain": [
       "                    java  python   r  javascript  all_content\n",
       "yes                    0    1014   0           9         1023\n",
       "unknown                0     626   0           3          629\n",
       "data                  25     430  99         346          900\n",
       "api                   33     423   1          45          502\n",
       "learning               1     388   9           3          401\n",
       "...                  ...     ...  ..         ...          ...\n",
       "impatient              0       0   0           2            2\n",
       "impalacompanyprofi     0       0   0           1            1\n",
       "impactsli              0       0   0           1            1\n",
       "impactli               0       0   0           1            1\n",
       "zywuzzyr               0       0   1           0            1\n",
       "\n",
       "[38036 rows x 5 columns]"
      ]
     },
     "execution_count": 20,
     "metadata": {},
     "output_type": "execute_result"
    }
   ],
   "source": [
    "word_counts.sort_values('python', ascending = False)"
   ]
  },
  {
   "cell_type": "code",
   "execution_count": 21,
   "metadata": {},
   "outputs": [],
   "source": [
    "python_top_20 = word_counts.python.sort_values(ascending = False).head(20)"
   ]
  },
  {
   "cell_type": "code",
   "execution_count": 22,
   "metadata": {},
   "outputs": [],
   "source": [
    "java_top_20 = word_counts.java.sort_values(ascending = False).head(20)"
   ]
  },
  {
   "cell_type": "code",
   "execution_count": 23,
   "metadata": {},
   "outputs": [],
   "source": [
    "javascript_top_20 = word_counts.javascript.sort_values(ascending = False).head(20)"
   ]
  },
  {
   "cell_type": "code",
   "execution_count": 24,
   "metadata": {},
   "outputs": [],
   "source": [
    "r_top_20 = word_counts.r.sort_values(ascending = False).head(20)"
   ]
  },
  {
   "cell_type": "code",
   "execution_count": 25,
   "metadata": {},
   "outputs": [],
   "source": [
    "def ngram_charts(content, n):\n",
    "    content_word_str = ' '.join(content)\n",
    "    ngrams = (pd.Series(nltk.ngrams(content_word_str, n)).value_counts())\n",
    "    ngrams.plot.barh()\n",
    "\n"
   ]
  },
  {
   "cell_type": "code",
   "execution_count": 26,
   "metadata": {},
   "outputs": [],
   "source": [
    "def word_cloud(word_string, name):\n",
    "    from wordcloud import WordCloud\n",
    "    img = WordCloud(background_color='white', width=800, height=600).generate(word_string)\n",
    "    print('-------------------')\n",
    "    print(f'{name}')\n",
    "    print('-------------------')\n",
    "    plt.imshow(img)\n",
    "    plt.axis('off')"
   ]
  },
  {
   "cell_type": "code",
   "execution_count": 27,
   "metadata": {},
   "outputs": [
    {
     "data": {
      "text/plain": [
       "(spring, boot)                              10\n",
       "(open, source)                              10\n",
       "(make, sure)                                 9\n",
       "(srchttpscloudgithu, busercontentcomass)     8\n",
       "(p, p)                                       7\n",
       "dtype: int64"
      ]
     },
     "execution_count": 27,
     "metadata": {},
     "output_type": "execute_result"
    }
   ],
   "source": [
    "java_bigrams = (pd.Series(nltk.ngrams(java_words, 2))\n",
    "                      .value_counts()\n",
    "                      .head(10))\n",
    "\n",
    "java_bigrams.tail()"
   ]
  },
  {
   "cell_type": "code",
   "execution_count": 28,
   "metadata": {},
   "outputs": [
    {
     "data": {
      "text/plain": [
       "<AxesSubplot:>"
      ]
     },
     "execution_count": 28,
     "metadata": {},
     "output_type": "execute_result"
    },
    {
     "data": {
      "image/png": "[encoded data removed]",
      "text/plain": [
       "<Figure size 432x288 with 1 Axes>"
      ]
     },
     "metadata": {
      "needs_background": "light"
     },
     "output_type": "display_data"
    }
   ],
   "source": [
    "java_bigrams.plot.barh()"
   ]
  },
  {
   "cell_type": "code",
   "execution_count": 29,
   "metadata": {},
   "outputs": [
    {
     "data": {
      "text/plain": [
       "(yes, unknown)               536\n",
       "(apikey, yes)                319\n",
       "(machine, learning)          260\n",
       "(yes, yes)                   211\n",
       "(oauth, yes)                 106\n",
       "(neural, network)            103\n",
       "(natural, language)           69\n",
       "(generalpurpose, machine)     60\n",
       "(deep, learning)              54\n",
       "(data, analysis)              50\n",
       "dtype: int64"
      ]
     },
     "execution_count": 29,
     "metadata": {},
     "output_type": "execute_result"
    }
   ],
   "source": [
    "python_bigrams = (pd.Series(nltk.ngrams(python_words, 2))\n",
    "                      .value_counts()\n",
    "                      .head(10))\n",
    "\n",
    "python_bigrams.head(40)"
   ]
  },
  {
   "cell_type": "code",
   "execution_count": 30,
   "metadata": {},
   "outputs": [
    {
     "data": {
      "text/plain": [
       "<AxesSubplot:>"
      ]
     },
     "execution_count": 30,
     "metadata": {},
     "output_type": "execute_result"
    },
    {
     "data": {
      "image/png": "[encoded data removed]",
      "text/plain": [
       "<Figure size 432x288 with 1 Axes>"
      ]
     },
     "metadata": {
      "needs_background": "light"
     },
     "output_type": "display_data"
    }
   ],
   "source": [
    "python_bigrams.plot.barh()"
   ]
  },
  {
   "cell_type": "code",
   "execution_count": 31,
   "metadata": {},
   "outputs": [
    {
     "data": {
      "text/plain": [
       "(freewarefreeware, icon)                    364\n",
       "(target_blankimg, srchttpsopencollec)       335\n",
       "(ul, li)                                    294\n",
       "(opensource, softwareoss)                   235\n",
       "(softwareoss, iconhttpsgithubcom)           205\n",
       "(javascript, bad)                           111\n",
       "(srchttpsopencollec, tivecomwebpackspon)    102\n",
       "(hrefhttpsopencolle, ctivecomwebpackbac)    102\n",
       "(srchttpsopencollec, tivecomwebpackback)    102\n",
       "(hrefhttpsopencolle, ctivecomwebpackspo)    102\n",
       "dtype: int64"
      ]
     },
     "execution_count": 31,
     "metadata": {},
     "output_type": "execute_result"
    }
   ],
   "source": [
    "javascript_bigrams = (pd.Series(nltk.ngrams(javascript_words, 2))\n",
    "                      .value_counts()\n",
    "                      .head(10))\n",
    "\n",
    "javascript_bigrams.head(40)"
   ]
  },
  {
   "cell_type": "code",
   "execution_count": 34,
   "metadata": {},
   "outputs": [
    {
     "data": {
      "text/plain": [
       "<AxesSubplot:>"
      ]
     },
     "execution_count": 34,
     "metadata": {},
     "output_type": "execute_result"
    },
    {
     "data": {
      "image/png": "[encoded data removed]",
      "text/plain": [
       "<Figure size 432x288 with 1 Axes>"
      ]
     },
     "metadata": {
      "needs_background": "light"
     },
     "output_type": "display_data"
    }
   ],
   "source": [
    "javascript_bigrams.plot.barh()"
   ]
  },
  {
   "cell_type": "code",
   "execution_count": 32,
   "metadata": {},
   "outputs": [
    {
     "data": {
      "text/plain": [
       "(data, mtcars)                              19\n",
       "(time, series)                              19\n",
       "(disp, data)                                15\n",
       "(hp, disp)                                  15\n",
       "(supernovalmmpg, hp)                        14\n",
       "(deprecated, use)                           11\n",
       "(r, evalfalse)                              11\n",
       "(use, package)                              11\n",
       "(badgehttpsimgshiel, dsiostaticv1stylef)    10\n",
       "(mtcars, type)                              10\n",
       "dtype: int64"
      ]
     },
     "execution_count": 32,
     "metadata": {},
     "output_type": "execute_result"
    }
   ],
   "source": [
    "r_bigrams = (pd.Series(nltk.ngrams(r_words, 2))\n",
    "                      .value_counts()\n",
    "                      .head(10))\n",
    "\n",
    "r_bigrams.head(40)"
   ]
  },
  {
   "cell_type": "code",
   "execution_count": 33,
   "metadata": {},
   "outputs": [
    {
     "data": {
      "text/plain": [
       "<AxesSubplot:>"
      ]
     },
     "execution_count": 33,
     "metadata": {},
     "output_type": "execute_result"
    },
    {
     "data": {
      "image/png": "[encoded data removed]",
      "text/plain": [
       "<Figure size 432x288 with 1 Axes>"
      ]
     },
     "metadata": {
      "needs_background": "light"
     },
     "output_type": "display_data"
    }
   ],
   "source": [
    "r_bigrams.plot.barh()"
   ]
  },
  {
   "cell_type": "code",
   "execution_count": 50,
   "metadata": {},
   "outputs": [
    {
     "data": {
      "text/plain": [
       "str"
      ]
     },
     "execution_count": 50,
     "metadata": {},
     "output_type": "execute_result"
    }
   ],
   "source": [
    "r_words_string = ' '.join(r_words)\n",
    "p_words_string = ' '.join(python_words)\n",
    "j_words_string = ' '.join(java_words)\n",
    "js_words_string = ' '.join(javascript_words)\n",
    "\n",
    "type(p_words_string)"
   ]
  },
  {
   "cell_type": "code",
   "execution_count": null,
   "metadata": {},
   "outputs": [],
   "source": []
  },
  {
   "cell_type": "code",
   "execution_count": 60,
   "metadata": {},
   "outputs": [
    {
     "name": "stdout",
     "output_type": "stream",
     "text": [
      "-------------------\n",
      "python\n",
      "-------------------\n"
     ]
    },
    {
     "data": {
      "image/png": "[encoded data removed]",
      "text/plain": [
       "<Figure size 432x288 with 1 Axes>"
      ]
     },
     "metadata": {
      "needs_background": "light"
     },
     "output_type": "display_data"
    }
   ],
   "source": [
    "word_cloud(p_words_string, 'python')"
   ]
  },
  {
   "cell_type": "code",
   "execution_count": null,
   "metadata": {},
   "outputs": [],
   "source": []
  }
 ],
 "metadata": {
  "kernelspec": {
   "display_name": "Python 3",
   "language": "python",
   "name": "python3"
  },
  "language_info": {
   "codemirror_mode": {
    "name": "ipython",
    "version": 3
   },
   "file_extension": ".py",
   "mimetype": "text/x-python",
   "name": "python",
   "nbconvert_exporter": "python",
   "pygments_lexer": "ipython3",
   "version": "3.8.5"
  }
 },
 "nbformat": 4,
 "nbformat_minor": 4
}
