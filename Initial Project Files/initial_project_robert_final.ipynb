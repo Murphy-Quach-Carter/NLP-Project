{
 "cells": [
  {
   "cell_type": "markdown",
   "metadata": {},
   "source": [
    "# **Imports:**"
   ]
  },
  {
   "cell_type": "markdown",
   "metadata": {},
   "source": [
    "----"
   ]
  },
  {
   "cell_type": "code",
   "execution_count": 1,
   "metadata": {},
   "outputs": [],
   "source": [
    "from requests import get\n",
    "from bs4 import BeautifulSoup\n",
    "import os\n",
    "import requests\n",
    "import pandas as pd\n",
    "import unicodedata\n",
    "import re\n",
    "import json\n",
    "\n",
    "import matplotlib.pyplot as plt\n",
    "\n",
    "import nltk\n",
    "from nltk.tokenize.toktok import ToktokTokenizer\n",
    "from nltk.corpus import stopwords\n",
    "\n",
    "from sklearn.feature_extraction.text import CountVectorizer\n",
    "from pprint import pprint\n",
    "from sklearn.feature_extraction.text import TfidfVectorizer\n",
    "from sklearn.model_selection import train_test_split\n",
    "\n",
    "from sklearn.naive_bayes import MultinomialNB\n",
    "from sklearn.naive_bayes import CategoricalNB\n",
    "from sklearn.naive_bayes import GaussianNB\n",
    "\n",
    "\n",
    "from sklearn.model_selection import train_test_split\n",
    "from sklearn.impute import SimpleImputer\n",
    "from sklearn.tree import DecisionTreeClassifier, plot_tree, export_text\n",
    "from sklearn.ensemble import RandomForestClassifier\n",
    "from sklearn.neighbors import KNeighborsClassifier\n",
    "from sklearn.dummy import DummyClassifier\n",
    "from sklearn.linear_model import LogisticRegression\n",
    "from sklearn.metrics import classification_report\n",
    "from sklearn.metrics import accuracy_score\n",
    "from sklearn.metrics import precision_score\n",
    "from sklearn.metrics import recall_score\n",
    "import prepare\n",
    "\n",
    "# ignore warnings\n",
    "import warnings\n",
    "warnings.filterwarnings(\"ignore\")"
   ]
  },
  {
   "cell_type": "markdown",
   "metadata": {},
   "source": [
    "-----"
   ]
  },
  {
   "cell_type": "markdown",
   "metadata": {},
   "source": [
    "# **Acquire:**"
   ]
  },
  {
   "cell_type": "code",
   "execution_count": 2,
   "metadata": {},
   "outputs": [],
   "source": [
    "#utilizing json file created from acquire.py, using pandas read json to create a dataframe\n",
    "df = pd.read_json('data2.json')"
   ]
  },
  {
   "cell_type": "code",
   "execution_count": 3,
   "metadata": {},
   "outputs": [
    {
     "data": {
      "text/html": [
       "<div>\n",
       "<style scoped>\n",
       "    .dataframe tbody tr th:only-of-type {\n",
       "        vertical-align: middle;\n",
       "    }\n",
       "\n",
       "    .dataframe tbody tr th {\n",
       "        vertical-align: top;\n",
       "    }\n",
       "\n",
       "    .dataframe thead th {\n",
       "        text-align: right;\n",
       "    }\n",
       "</style>\n",
       "<table border=\"1\" class=\"dataframe\">\n",
       "  <thead>\n",
       "    <tr style=\"text-align: right;\">\n",
       "      <th></th>\n",
       "      <th>repo</th>\n",
       "      <th>language</th>\n",
       "      <th>readme_contents</th>\n",
       "    </tr>\n",
       "  </thead>\n",
       "  <tbody>\n",
       "    <tr>\n",
       "      <th>0</th>\n",
       "      <td>IrisShaders/Iris</td>\n",
       "      <td>Java</td>\n",
       "      <td>![Iris: An open-source shaders mod compatible ...</td>\n",
       "    </tr>\n",
       "    <tr>\n",
       "      <th>1</th>\n",
       "      <td>returntocorp/semgrep</td>\n",
       "      <td>Java</td>\n",
       "      <td>&lt;/br&gt;\\n&lt;p align=\"center\"&gt;\\n    &lt;a href=\"https:...</td>\n",
       "    </tr>\n",
       "    <tr>\n",
       "      <th>2</th>\n",
       "      <td>CaffeineMC/sodium-fabric</td>\n",
       "      <td>Java</td>\n",
       "      <td>&lt;img src=\"src/main/resources/assets/sodium/ico...</td>\n",
       "    </tr>\n",
       "    <tr>\n",
       "      <th>3</th>\n",
       "      <td>keycloak/keycloak</td>\n",
       "      <td>Java</td>\n",
       "      <td># Keycloak\\n\\nKeycloak is an Open Source Ident...</td>\n",
       "    </tr>\n",
       "    <tr>\n",
       "      <th>4</th>\n",
       "      <td>NationalSecurityAgency/ghidra</td>\n",
       "      <td>Java</td>\n",
       "      <td>&lt;img src=\"Ghidra/Features/Base/src/main/resour...</td>\n",
       "    </tr>\n",
       "  </tbody>\n",
       "</table>\n",
       "</div>"
      ],
      "text/plain": [
       "                            repo language  \\\n",
       "0               IrisShaders/Iris     Java   \n",
       "1           returntocorp/semgrep     Java   \n",
       "2       CaffeineMC/sodium-fabric     Java   \n",
       "3              keycloak/keycloak     Java   \n",
       "4  NationalSecurityAgency/ghidra     Java   \n",
       "\n",
       "                                     readme_contents  \n",
       "0  ![Iris: An open-source shaders mod compatible ...  \n",
       "1  </br>\\n<p align=\"center\">\\n    <a href=\"https:...  \n",
       "2  <img src=\"src/main/resources/assets/sodium/ico...  \n",
       "3  # Keycloak\\n\\nKeycloak is an Open Source Ident...  \n",
       "4  <img src=\"Ghidra/Features/Base/src/main/resour...  "
      ]
     },
     "execution_count": 3,
     "metadata": {},
     "output_type": "execute_result"
    }
   ],
   "source": [
    "df.head()"
   ]
  },
  {
   "cell_type": "code",
   "execution_count": 4,
   "metadata": {},
   "outputs": [
    {
     "name": "stdout",
     "output_type": "stream",
     "text": [
      "<class 'pandas.core.frame.DataFrame'>\n",
      "RangeIndex: 225 entries, 0 to 224\n",
      "Data columns (total 3 columns):\n",
      " #   Column           Non-Null Count  Dtype \n",
      "---  ------           --------------  ----- \n",
      " 0   repo             225 non-null    object\n",
      " 1   language         225 non-null    object\n",
      " 2   readme_contents  225 non-null    object\n",
      "dtypes: object(3)\n",
      "memory usage: 5.4+ KB\n"
     ]
    }
   ],
   "source": [
    "#initial is 225 records x 3 fields, all are objects.\n",
    "df.info()"
   ]
  },
  {
   "cell_type": "markdown",
   "metadata": {},
   "source": [
    "------"
   ]
  },
  {
   "cell_type": "markdown",
   "metadata": {},
   "source": [
    "To Do's:\n",
    "\n",
    "1.) drop duplicates, drop nans\n",
    "\n",
    "2.) lower case language and repo columns, and readme_contents as well.\n",
    "\n",
    "3.) drop non alpha-numeric values.\n",
    "\n",
    "4.) Drop words which are excessively long, appears there is combination of words\n",
    "\n"
   ]
  },
  {
   "cell_type": "markdown",
   "metadata": {},
   "source": [
    "------"
   ]
  },
  {
   "cell_type": "markdown",
   "metadata": {},
   "source": [
    "# **Prepare:**"
   ]
  },
  {
   "cell_type": "code",
   "execution_count": 5,
   "metadata": {},
   "outputs": [],
   "source": [
    "#utilizing prepare function which will retrun a df containing original columns and columns which have been normalized, lemmatized, tokenized and had stopwords removed or added.\n",
    "df = prepare.prep_repo_data(df)"
   ]
  },
  {
   "cell_type": "code",
   "execution_count": 6,
   "metadata": {},
   "outputs": [
    {
     "name": "stdout",
     "output_type": "stream",
     "text": [
      "<class 'pandas.core.frame.DataFrame'>\n",
      "Int64Index: 174 entries, 0 to 198\n",
      "Data columns (total 6 columns):\n",
      " #   Column                   Non-Null Count  Dtype \n",
      "---  ------                   --------------  ----- \n",
      " 0   repo_name                174 non-null    object\n",
      " 1   language                 174 non-null    object\n",
      " 2   readme_contents          174 non-null    object\n",
      " 3   repo_name_cleaned        174 non-null    object\n",
      " 4   language_cleaned         174 non-null    object\n",
      " 5   readme_contents_cleaned  174 non-null    object\n",
      "dtypes: object(6)\n",
      "memory usage: 9.5+ KB\n"
     ]
    }
   ],
   "source": [
    "#looking at the initial and new columns.\n",
    "df.info()"
   ]
  },
  {
   "cell_type": "code",
   "execution_count": 7,
   "metadata": {},
   "outputs": [
    {
     "data": {
      "text/plain": [
       "(174, 6)"
      ]
     },
     "execution_count": 7,
     "metadata": {},
     "output_type": "execute_result"
    }
   ],
   "source": [
    "#shape after prepare is 174 records by 6 fields\n",
    "df.shape"
   ]
  },
  {
   "cell_type": "code",
   "execution_count": 8,
   "metadata": {},
   "outputs": [
    {
     "data": {
      "text/html": [
       "<div>\n",
       "<style scoped>\n",
       "    .dataframe tbody tr th:only-of-type {\n",
       "        vertical-align: middle;\n",
       "    }\n",
       "\n",
       "    .dataframe tbody tr th {\n",
       "        vertical-align: top;\n",
       "    }\n",
       "\n",
       "    .dataframe thead th {\n",
       "        text-align: right;\n",
       "    }\n",
       "</style>\n",
       "<table border=\"1\" class=\"dataframe\">\n",
       "  <thead>\n",
       "    <tr style=\"text-align: right;\">\n",
       "      <th></th>\n",
       "      <th>repo_name</th>\n",
       "      <th>language</th>\n",
       "      <th>readme_contents</th>\n",
       "      <th>repo_name_cleaned</th>\n",
       "      <th>language_cleaned</th>\n",
       "      <th>readme_contents_cleaned</th>\n",
       "    </tr>\n",
       "  </thead>\n",
       "  <tbody>\n",
       "    <tr>\n",
       "      <th>0</th>\n",
       "      <td>IrisShaders/Iris</td>\n",
       "      <td>Java</td>\n",
       "      <td>![Iris: An open-source shaders mod compatible ...</td>\n",
       "      <td>irisshadersiris</td>\n",
       "      <td>java</td>\n",
       "      <td>iris opensource shaders mod compatible optifin...</td>\n",
       "    </tr>\n",
       "    <tr>\n",
       "      <th>1</th>\n",
       "      <td>returntocorp/semgrep</td>\n",
       "      <td>Java</td>\n",
       "      <td>&lt;/br&gt;\\n&lt;p align=\"center\"&gt;\\n    &lt;a href=\"https:...</td>\n",
       "      <td>returntocorpsemgrep</td>\n",
       "      <td>java</td>\n",
       "      <td>br p aligncenter hrefhttpssemgrepdevimg srchtt...</td>\n",
       "    </tr>\n",
       "    <tr>\n",
       "      <th>2</th>\n",
       "      <td>CaffeineMC/sodium-fabric</td>\n",
       "      <td>Java</td>\n",
       "      <td>&lt;img src=\"src/main/resources/assets/sodium/ico...</td>\n",
       "      <td>caffeinemcsodiumfabric</td>\n",
       "      <td>java</td>\n",
       "      <td>img srcsrcmainresourcesassetssodiumiconpng wid...</td>\n",
       "    </tr>\n",
       "    <tr>\n",
       "      <th>3</th>\n",
       "      <td>keycloak/keycloak</td>\n",
       "      <td>Java</td>\n",
       "      <td># Keycloak\\n\\nKeycloak is an Open Source Ident...</td>\n",
       "      <td>keycloakkeycloak</td>\n",
       "      <td>java</td>\n",
       "      <td>keycloak keycloak open source identity access ...</td>\n",
       "    </tr>\n",
       "    <tr>\n",
       "      <th>4</th>\n",
       "      <td>NationalSecurityAgency/ghidra</td>\n",
       "      <td>Java</td>\n",
       "      <td>&lt;img src=\"Ghidra/Features/Base/src/main/resour...</td>\n",
       "      <td>nationalsecurityagencyghidra</td>\n",
       "      <td>java</td>\n",
       "      <td>img srcghidrafeaturesbasesrcmainresourcesimage...</td>\n",
       "    </tr>\n",
       "    <tr>\n",
       "      <th>5</th>\n",
       "      <td>alibaba/Sentinel</td>\n",
       "      <td>Java</td>\n",
       "      <td>&lt;img src=\"https://user-images.githubuserconten...</td>\n",
       "      <td>alibabasentinel</td>\n",
       "      <td>java</td>\n",
       "      <td>img srchttpsuserimagesgithubusercontentcom9434...</td>\n",
       "    </tr>\n",
       "    <tr>\n",
       "      <th>6</th>\n",
       "      <td>square/okhttp</td>\n",
       "      <td>Java</td>\n",
       "      <td>OkHttp\\n======\\n\\nSee the [project website][ok...</td>\n",
       "      <td>squareokhttp</td>\n",
       "      <td>java</td>\n",
       "      <td>okhttp see project websiteokhttp documentation...</td>\n",
       "    </tr>\n",
       "    <tr>\n",
       "      <th>7</th>\n",
       "      <td>alibaba/nacos</td>\n",
       "      <td>Java</td>\n",
       "      <td>\\n&lt;img src=\"doc/Nacos_Logo.png\" width=\"50%\" sy...</td>\n",
       "      <td>alibabanacos</td>\n",
       "      <td>java</td>\n",
       "      <td>img srcdocnacos_logopng width50 syt height50 n...</td>\n",
       "    </tr>\n",
       "    <tr>\n",
       "      <th>8</th>\n",
       "      <td>opensearch-project/OpenSearch</td>\n",
       "      <td>Java</td>\n",
       "      <td>&lt;img src=\"https://opensearch.org/assets/brand/...</td>\n",
       "      <td>opensearchprojectopensearch</td>\n",
       "      <td>java</td>\n",
       "      <td>img srchttpsopensearchorgassetsbrandsvglogoope...</td>\n",
       "    </tr>\n",
       "    <tr>\n",
       "      <th>9</th>\n",
       "      <td>sqshq/piggymetrics</td>\n",
       "      <td>Java</td>\n",
       "      <td>[![Build Status](https://travis-ci.org/sqshq/P...</td>\n",
       "      <td>sqshqpiggymetrics</td>\n",
       "      <td>java</td>\n",
       "      <td>build statushttpstravisciorgsqshqpiggymetricss...</td>\n",
       "    </tr>\n",
       "  </tbody>\n",
       "</table>\n",
       "</div>"
      ],
      "text/plain": [
       "                       repo_name language  \\\n",
       "0               IrisShaders/Iris     Java   \n",
       "1           returntocorp/semgrep     Java   \n",
       "2       CaffeineMC/sodium-fabric     Java   \n",
       "3              keycloak/keycloak     Java   \n",
       "4  NationalSecurityAgency/ghidra     Java   \n",
       "5               alibaba/Sentinel     Java   \n",
       "6                  square/okhttp     Java   \n",
       "7                  alibaba/nacos     Java   \n",
       "8  opensearch-project/OpenSearch     Java   \n",
       "9             sqshq/piggymetrics     Java   \n",
       "\n",
       "                                     readme_contents  \\\n",
       "0  ![Iris: An open-source shaders mod compatible ...   \n",
       "1  </br>\\n<p align=\"center\">\\n    <a href=\"https:...   \n",
       "2  <img src=\"src/main/resources/assets/sodium/ico...   \n",
       "3  # Keycloak\\n\\nKeycloak is an Open Source Ident...   \n",
       "4  <img src=\"Ghidra/Features/Base/src/main/resour...   \n",
       "5  <img src=\"https://user-images.githubuserconten...   \n",
       "6  OkHttp\\n======\\n\\nSee the [project website][ok...   \n",
       "7  \\n<img src=\"doc/Nacos_Logo.png\" width=\"50%\" sy...   \n",
       "8  <img src=\"https://opensearch.org/assets/brand/...   \n",
       "9  [![Build Status](https://travis-ci.org/sqshq/P...   \n",
       "\n",
       "              repo_name_cleaned language_cleaned  \\\n",
       "0               irisshadersiris             java   \n",
       "1           returntocorpsemgrep             java   \n",
       "2        caffeinemcsodiumfabric             java   \n",
       "3              keycloakkeycloak             java   \n",
       "4  nationalsecurityagencyghidra             java   \n",
       "5               alibabasentinel             java   \n",
       "6                  squareokhttp             java   \n",
       "7                  alibabanacos             java   \n",
       "8   opensearchprojectopensearch             java   \n",
       "9             sqshqpiggymetrics             java   \n",
       "\n",
       "                             readme_contents_cleaned  \n",
       "0  iris opensource shaders mod compatible optifin...  \n",
       "1  br p aligncenter hrefhttpssemgrepdevimg srchtt...  \n",
       "2  img srcsrcmainresourcesassetssodiumiconpng wid...  \n",
       "3  keycloak keycloak open source identity access ...  \n",
       "4  img srcghidrafeaturesbasesrcmainresourcesimage...  \n",
       "5  img srchttpsuserimagesgithubusercontentcom9434...  \n",
       "6  okhttp see project websiteokhttp documentation...  \n",
       "7  img srcdocnacos_logopng width50 syt height50 n...  \n",
       "8  img srchttpsopensearchorgassetsbrandsvglogoope...  \n",
       "9  build statushttpstravisciorgsqshqpiggymetricss...  "
      ]
     },
     "execution_count": 8,
     "metadata": {},
     "output_type": "execute_result"
    }
   ],
   "source": [
    "df.head(10)"
   ]
  },
  {
   "cell_type": "code",
   "execution_count": 9,
   "metadata": {},
   "outputs": [],
   "source": [
    "#changing the column readme contents to only be a total character size of 18 or less\n",
    "df['readme_contents_cleaned'] = df['readme_contents_cleaned'].str.findall('\\w{1,18}').str.join(' ')\n"
   ]
  },
  {
   "cell_type": "code",
   "execution_count": 10,
   "metadata": {},
   "outputs": [],
   "source": [
    "def lang_split(df):\n",
    "    '''\n",
    "    This function take in the readme data acquired\n",
    "    performs a split and stratifies language_cleaned column.\n",
    "    Returns train, validate, and test dfs.\n",
    "    '''\n",
    "    train_validate, test = train_test_split(df, test_size=.2, \n",
    "                                        random_state=245, \n",
    "                                        stratify=df.language_cleaned)\n",
    "    train, validate = train_test_split(train_validate, test_size=.3, \n",
    "                                   random_state=245, \n",
    "                                   stratify=train_validate.language_cleaned)\n",
    "    return train, validate, test"
   ]
  },
  {
   "cell_type": "code",
   "execution_count": 11,
   "metadata": {},
   "outputs": [
    {
     "data": {
      "text/plain": [
       "JavaScript    47\n",
       "Python        47\n",
       "Java          42\n",
       "R             38\n",
       "Name: language, dtype: int64"
      ]
     },
     "execution_count": 11,
     "metadata": {},
     "output_type": "execute_result"
    }
   ],
   "source": [
    "df.language.value_counts()"
   ]
  },
  {
   "cell_type": "code",
   "execution_count": 12,
   "metadata": {},
   "outputs": [],
   "source": [
    "#splitting the data into a train, validate and test set\n",
    "train, validate, test = lang_split(df)"
   ]
  },
  {
   "cell_type": "code",
   "execution_count": 13,
   "metadata": {},
   "outputs": [
    {
     "data": {
      "text/html": [
       "<div>\n",
       "<style scoped>\n",
       "    .dataframe tbody tr th:only-of-type {\n",
       "        vertical-align: middle;\n",
       "    }\n",
       "\n",
       "    .dataframe tbody tr th {\n",
       "        vertical-align: top;\n",
       "    }\n",
       "\n",
       "    .dataframe thead th {\n",
       "        text-align: right;\n",
       "    }\n",
       "</style>\n",
       "<table border=\"1\" class=\"dataframe\">\n",
       "  <thead>\n",
       "    <tr style=\"text-align: right;\">\n",
       "      <th></th>\n",
       "      <th>repo_name</th>\n",
       "      <th>language</th>\n",
       "      <th>readme_contents</th>\n",
       "      <th>repo_name_cleaned</th>\n",
       "      <th>language_cleaned</th>\n",
       "      <th>readme_contents_cleaned</th>\n",
       "    </tr>\n",
       "  </thead>\n",
       "  <tbody>\n",
       "    <tr>\n",
       "      <th>8</th>\n",
       "      <td>opensearch-project/OpenSearch</td>\n",
       "      <td>Java</td>\n",
       "      <td>&lt;img src=\"https://opensearch.org/assets/brand/...</td>\n",
       "      <td>opensearchprojectopensearch</td>\n",
       "      <td>java</td>\n",
       "      <td>img srchttpsopensearch orgassetsbrandsvgl ogoo...</td>\n",
       "    </tr>\n",
       "    <tr>\n",
       "      <th>196</th>\n",
       "      <td>r-spatial/mapview</td>\n",
       "      <td>R</td>\n",
       "      <td>---\\noutput: github_document\\n---\\n\\n```{r set...</td>\n",
       "      <td>rspatialmapview</td>\n",
       "      <td>r</td>\n",
       "      <td>output github_document r setup include false k...</td>\n",
       "    </tr>\n",
       "    <tr>\n",
       "      <th>95</th>\n",
       "      <td>mlr-org/mlr3misc</td>\n",
       "      <td>R</td>\n",
       "      <td># mlr3misc\\n\\nPackage website: [release](https...</td>\n",
       "      <td>mlrorgmlr3misc</td>\n",
       "      <td>r</td>\n",
       "      <td>mlr3misc package website releasehttpsmlr3mi sc...</td>\n",
       "    </tr>\n",
       "    <tr>\n",
       "      <th>9</th>\n",
       "      <td>sqshq/piggymetrics</td>\n",
       "      <td>Java</td>\n",
       "      <td>[![Build Status](https://travis-ci.org/sqshq/P...</td>\n",
       "      <td>sqshqpiggymetrics</td>\n",
       "      <td>java</td>\n",
       "      <td>build statushttpstravisc iorgsqshqpiggymetr ic...</td>\n",
       "    </tr>\n",
       "    <tr>\n",
       "      <th>60</th>\n",
       "      <td>atom/atom</td>\n",
       "      <td>JavaScript</td>\n",
       "      <td># Atom\\n\\n[![Build status](https://dev.azure.c...</td>\n",
       "      <td>atomatom</td>\n",
       "      <td>javascript</td>\n",
       "      <td>atom build statushttpsdevazur ecomgithubatom_a...</td>\n",
       "    </tr>\n",
       "  </tbody>\n",
       "</table>\n",
       "</div>"
      ],
      "text/plain": [
       "                         repo_name    language  \\\n",
       "8    opensearch-project/OpenSearch        Java   \n",
       "196              r-spatial/mapview           R   \n",
       "95                mlr-org/mlr3misc           R   \n",
       "9               sqshq/piggymetrics        Java   \n",
       "60                       atom/atom  JavaScript   \n",
       "\n",
       "                                       readme_contents  \\\n",
       "8    <img src=\"https://opensearch.org/assets/brand/...   \n",
       "196  ---\\noutput: github_document\\n---\\n\\n```{r set...   \n",
       "95   # mlr3misc\\n\\nPackage website: [release](https...   \n",
       "9    [![Build Status](https://travis-ci.org/sqshq/P...   \n",
       "60   # Atom\\n\\n[![Build status](https://dev.azure.c...   \n",
       "\n",
       "               repo_name_cleaned language_cleaned  \\\n",
       "8    opensearchprojectopensearch             java   \n",
       "196              rspatialmapview                r   \n",
       "95                mlrorgmlr3misc                r   \n",
       "9              sqshqpiggymetrics             java   \n",
       "60                      atomatom       javascript   \n",
       "\n",
       "                               readme_contents_cleaned  \n",
       "8    img srchttpsopensearch orgassetsbrandsvgl ogoo...  \n",
       "196  output github_document r setup include false k...  \n",
       "95   mlr3misc package website releasehttpsmlr3mi sc...  \n",
       "9    build statushttpstravisc iorgsqshqpiggymetr ic...  \n",
       "60   atom build statushttpsdevazur ecomgithubatom_a...  "
      ]
     },
     "execution_count": 13,
     "metadata": {},
     "output_type": "execute_result"
    }
   ],
   "source": [
    "train.head()"
   ]
  },
  {
   "cell_type": "markdown",
   "metadata": {},
   "source": [
    "## df.copy for altering "
   ]
  },
  {
   "cell_type": "markdown",
   "metadata": {},
   "source": [
    "-----"
   ]
  },
  {
   "cell_type": "markdown",
   "metadata": {},
   "source": [
    "# **Exploratory**:"
   ]
  },
  {
   "cell_type": "code",
   "execution_count": 14,
   "metadata": {},
   "outputs": [],
   "source": [
    "# splitting the readmes into strings\n",
    "java_read = ' '.join(train[train.language_cleaned == 'java'].readme_contents_cleaned)\n",
    "python_read = ' '.join(train[train.language_cleaned == 'python'].readme_contents_cleaned)\n",
    "r_read = ' '.join(train[train.language_cleaned == 'r'].readme_contents_cleaned)\n",
    "javascript_read = ' '.join(train[train.language_cleaned == 'javascript'].readme_contents_cleaned)\n",
    "all_content = ' '.join(train.readme_contents_cleaned)"
   ]
  },
  {
   "cell_type": "code",
   "execution_count": 15,
   "metadata": {},
   "outputs": [
    {
     "data": {
      "text/html": [
       "<div>\n",
       "<style scoped>\n",
       "    .dataframe tbody tr th:only-of-type {\n",
       "        vertical-align: middle;\n",
       "    }\n",
       "\n",
       "    .dataframe tbody tr th {\n",
       "        vertical-align: top;\n",
       "    }\n",
       "\n",
       "    .dataframe thead th {\n",
       "        text-align: right;\n",
       "    }\n",
       "</style>\n",
       "<table border=\"1\" class=\"dataframe\">\n",
       "  <thead>\n",
       "    <tr style=\"text-align: right;\">\n",
       "      <th></th>\n",
       "      <th>n</th>\n",
       "      <th>percent</th>\n",
       "    </tr>\n",
       "  </thead>\n",
       "  <tbody>\n",
       "    <tr>\n",
       "      <th>javascript</th>\n",
       "      <td>26</td>\n",
       "      <td>0.268041</td>\n",
       "    </tr>\n",
       "    <tr>\n",
       "      <th>python</th>\n",
       "      <td>26</td>\n",
       "      <td>0.268041</td>\n",
       "    </tr>\n",
       "    <tr>\n",
       "      <th>java</th>\n",
       "      <td>24</td>\n",
       "      <td>0.247423</td>\n",
       "    </tr>\n",
       "    <tr>\n",
       "      <th>r</th>\n",
       "      <td>21</td>\n",
       "      <td>0.216495</td>\n",
       "    </tr>\n",
       "  </tbody>\n",
       "</table>\n",
       "</div>"
      ],
      "text/plain": [
       "             n   percent\n",
       "javascript  26  0.268041\n",
       "python      26  0.268041\n",
       "java        24  0.247423\n",
       "r           21  0.216495"
      ]
     },
     "execution_count": 15,
     "metadata": {},
     "output_type": "execute_result"
    }
   ],
   "source": [
    "def show_counts_and_ratios(df, column):\n",
    "    \"\"\"\n",
    "    Takes in a dataframe and a string of a single column\n",
    "    Returns a dataframe with absolute value counts and percentage value counts\n",
    "    \"\"\"\n",
    "    labels = pd.concat([df[column].value_counts(),\n",
    "                    df[column].value_counts(normalize=True)], axis=1)\n",
    "    labels.columns = ['n', 'percent']\n",
    "    labels\n",
    "    return labels\n",
    "\n",
    "show_counts_and_ratios(train, \"language_cleaned\")"
   ]
  },
  {
   "cell_type": "code",
   "execution_count": 16,
   "metadata": {},
   "outputs": [],
   "source": [
    "#creating word frequencies\n",
    "java_freq = pd.Series(java_read.split()).value_counts()\n",
    "python_freq = pd.Series(python_read.split()).value_counts()\n",
    "r_freq= pd.Series(r_read.split()).value_counts()\n",
    "javascript_freq= pd.Series(javascript_read.split()).value_counts()\n",
    "all_freq = pd.Series(all_content.split()).value_counts()"
   ]
  },
  {
   "cell_type": "code",
   "execution_count": 17,
   "metadata": {},
   "outputs": [],
   "source": [
    "#combining series into one which is shows word count for each word for each language.\n",
    "word_counts = (pd.concat([java_freq, python_freq, r_freq, javascript_freq, all_freq], axis=1, sort=True)\n",
    "                .fillna(0)\n",
    "                .apply(lambda s: s.astype(int)))\n",
    "\n"
   ]
  },
  {
   "cell_type": "code",
   "execution_count": 18,
   "metadata": {},
   "outputs": [],
   "source": [
    "#splitting the string into a list of words.\n",
    "java_words = re.sub(r'[^\\w\\s]', '', java_read).split()\n",
    "r_words = re.sub(r'[^\\w\\s]', '', r_read).split()\n",
    "python_words = re.sub(r'[^\\w\\s]', '', python_read).split()\n",
    "javascript_words = re.sub(r'[^\\w\\s]', '', javascript_read).split()\n",
    "all_content_words = re.sub(r'[^\\w\\s]', '', all_content).split()\n"
   ]
  },
  {
   "cell_type": "code",
   "execution_count": 19,
   "metadata": {},
   "outputs": [],
   "source": [
    "#naming the columns\n",
    "word_counts.columns = ['java', 'python', 'r', 'javascript', 'all_content']"
   ]
  },
  {
   "cell_type": "code",
   "execution_count": 20,
   "metadata": {},
   "outputs": [
    {
     "data": {
      "text/html": [
       "<div>\n",
       "<style scoped>\n",
       "    .dataframe tbody tr th:only-of-type {\n",
       "        vertical-align: middle;\n",
       "    }\n",
       "\n",
       "    .dataframe tbody tr th {\n",
       "        vertical-align: top;\n",
       "    }\n",
       "\n",
       "    .dataframe thead th {\n",
       "        text-align: right;\n",
       "    }\n",
       "</style>\n",
       "<table border=\"1\" class=\"dataframe\">\n",
       "  <thead>\n",
       "    <tr style=\"text-align: right;\">\n",
       "      <th></th>\n",
       "      <th>java</th>\n",
       "      <th>python</th>\n",
       "      <th>r</th>\n",
       "      <th>javascript</th>\n",
       "      <th>all_content</th>\n",
       "    </tr>\n",
       "  </thead>\n",
       "  <tbody>\n",
       "    <tr>\n",
       "      <th>yes</th>\n",
       "      <td>0</td>\n",
       "      <td>1014</td>\n",
       "      <td>0</td>\n",
       "      <td>9</td>\n",
       "      <td>1023</td>\n",
       "    </tr>\n",
       "    <tr>\n",
       "      <th>unknown</th>\n",
       "      <td>0</td>\n",
       "      <td>626</td>\n",
       "      <td>0</td>\n",
       "      <td>3</td>\n",
       "      <td>629</td>\n",
       "    </tr>\n",
       "    <tr>\n",
       "      <th>data</th>\n",
       "      <td>25</td>\n",
       "      <td>430</td>\n",
       "      <td>99</td>\n",
       "      <td>346</td>\n",
       "      <td>900</td>\n",
       "    </tr>\n",
       "    <tr>\n",
       "      <th>api</th>\n",
       "      <td>33</td>\n",
       "      <td>423</td>\n",
       "      <td>1</td>\n",
       "      <td>45</td>\n",
       "      <td>502</td>\n",
       "    </tr>\n",
       "    <tr>\n",
       "      <th>learning</th>\n",
       "      <td>1</td>\n",
       "      <td>388</td>\n",
       "      <td>9</td>\n",
       "      <td>3</td>\n",
       "      <td>401</td>\n",
       "    </tr>\n",
       "    <tr>\n",
       "      <th>apikey</th>\n",
       "      <td>0</td>\n",
       "      <td>341</td>\n",
       "      <td>0</td>\n",
       "      <td>1</td>\n",
       "      <td>342</td>\n",
       "    </tr>\n",
       "    <tr>\n",
       "      <th>machine</th>\n",
       "      <td>5</td>\n",
       "      <td>334</td>\n",
       "      <td>7</td>\n",
       "      <td>17</td>\n",
       "      <td>363</td>\n",
       "    </tr>\n",
       "    <tr>\n",
       "      <th>video</th>\n",
       "      <td>0</td>\n",
       "      <td>291</td>\n",
       "      <td>0</td>\n",
       "      <td>12</td>\n",
       "      <td>303</td>\n",
       "    </tr>\n",
       "    <tr>\n",
       "      <th>library</th>\n",
       "      <td>17</td>\n",
       "      <td>290</td>\n",
       "      <td>6</td>\n",
       "      <td>27</td>\n",
       "      <td>340</td>\n",
       "    </tr>\n",
       "    <tr>\n",
       "      <th>python</th>\n",
       "      <td>5</td>\n",
       "      <td>270</td>\n",
       "      <td>7</td>\n",
       "      <td>2</td>\n",
       "      <td>284</td>\n",
       "    </tr>\n",
       "    <tr>\n",
       "      <th>use</th>\n",
       "      <td>84</td>\n",
       "      <td>219</td>\n",
       "      <td>54</td>\n",
       "      <td>300</td>\n",
       "      <td>657</td>\n",
       "    </tr>\n",
       "    <tr>\n",
       "      <th>using</th>\n",
       "      <td>37</td>\n",
       "      <td>193</td>\n",
       "      <td>35</td>\n",
       "      <td>160</td>\n",
       "      <td>425</td>\n",
       "    </tr>\n",
       "    <tr>\n",
       "      <th>file</th>\n",
       "      <td>25</td>\n",
       "      <td>191</td>\n",
       "      <td>27</td>\n",
       "      <td>107</td>\n",
       "      <td>350</td>\n",
       "    </tr>\n",
       "    <tr>\n",
       "      <th>model</th>\n",
       "      <td>1</td>\n",
       "      <td>180</td>\n",
       "      <td>80</td>\n",
       "      <td>6</td>\n",
       "      <td>267</td>\n",
       "    </tr>\n",
       "    <tr>\n",
       "      <th>format</th>\n",
       "      <td>3</td>\n",
       "      <td>171</td>\n",
       "      <td>6</td>\n",
       "      <td>18</td>\n",
       "      <td>198</td>\n",
       "    </tr>\n",
       "    <tr>\n",
       "      <th>deprecated</th>\n",
       "      <td>4</td>\n",
       "      <td>167</td>\n",
       "      <td>11</td>\n",
       "      <td>2</td>\n",
       "      <td>184</td>\n",
       "    </tr>\n",
       "    <tr>\n",
       "      <th>open</th>\n",
       "      <td>22</td>\n",
       "      <td>165</td>\n",
       "      <td>9</td>\n",
       "      <td>28</td>\n",
       "      <td>224</td>\n",
       "    </tr>\n",
       "    <tr>\n",
       "      <th>code</th>\n",
       "      <td>45</td>\n",
       "      <td>150</td>\n",
       "      <td>23</td>\n",
       "      <td>99</td>\n",
       "      <td>317</td>\n",
       "    </tr>\n",
       "    <tr>\n",
       "      <th>language</th>\n",
       "      <td>12</td>\n",
       "      <td>143</td>\n",
       "      <td>2</td>\n",
       "      <td>14</td>\n",
       "      <td>171</td>\n",
       "    </tr>\n",
       "    <tr>\n",
       "      <th>network</th>\n",
       "      <td>7</td>\n",
       "      <td>137</td>\n",
       "      <td>1</td>\n",
       "      <td>57</td>\n",
       "      <td>202</td>\n",
       "    </tr>\n",
       "    <tr>\n",
       "      <th>information</th>\n",
       "      <td>25</td>\n",
       "      <td>135</td>\n",
       "      <td>5</td>\n",
       "      <td>28</td>\n",
       "      <td>193</td>\n",
       "    </tr>\n",
       "    <tr>\n",
       "      <th>download</th>\n",
       "      <td>16</td>\n",
       "      <td>118</td>\n",
       "      <td>4</td>\n",
       "      <td>17</td>\n",
       "      <td>155</td>\n",
       "    </tr>\n",
       "    <tr>\n",
       "      <th>neural</th>\n",
       "      <td>0</td>\n",
       "      <td>118</td>\n",
       "      <td>0</td>\n",
       "      <td>0</td>\n",
       "      <td>118</td>\n",
       "    </tr>\n",
       "    <tr>\n",
       "      <th>default</th>\n",
       "      <td>8</td>\n",
       "      <td>116</td>\n",
       "      <td>12</td>\n",
       "      <td>127</td>\n",
       "      <td>263</td>\n",
       "    </tr>\n",
       "    <tr>\n",
       "      <th>also</th>\n",
       "      <td>28</td>\n",
       "      <td>112</td>\n",
       "      <td>8</td>\n",
       "      <td>88</td>\n",
       "      <td>236</td>\n",
       "    </tr>\n",
       "    <tr>\n",
       "      <th>version</th>\n",
       "      <td>39</td>\n",
       "      <td>112</td>\n",
       "      <td>34</td>\n",
       "      <td>57</td>\n",
       "      <td>242</td>\n",
       "    </tr>\n",
       "    <tr>\n",
       "      <th>oauth</th>\n",
       "      <td>0</td>\n",
       "      <td>110</td>\n",
       "      <td>0</td>\n",
       "      <td>1</td>\n",
       "      <td>111</td>\n",
       "    </tr>\n",
       "    <tr>\n",
       "      <th>install</th>\n",
       "      <td>18</td>\n",
       "      <td>104</td>\n",
       "      <td>43</td>\n",
       "      <td>47</td>\n",
       "      <td>212</td>\n",
       "    </tr>\n",
       "    <tr>\n",
       "      <th>hrefhttpsgithubcom</th>\n",
       "      <td>8</td>\n",
       "      <td>102</td>\n",
       "      <td>3</td>\n",
       "      <td>33</td>\n",
       "      <td>146</td>\n",
       "    </tr>\n",
       "    <tr>\n",
       "      <th>framework</th>\n",
       "      <td>12</td>\n",
       "      <td>100</td>\n",
       "      <td>3</td>\n",
       "      <td>8</td>\n",
       "      <td>123</td>\n",
       "    </tr>\n",
       "    <tr>\n",
       "      <th>ip</th>\n",
       "      <td>6</td>\n",
       "      <td>97</td>\n",
       "      <td>0</td>\n",
       "      <td>90</td>\n",
       "      <td>193</td>\n",
       "    </tr>\n",
       "    <tr>\n",
       "      <th>image</th>\n",
       "      <td>13</td>\n",
       "      <td>96</td>\n",
       "      <td>9</td>\n",
       "      <td>36</td>\n",
       "      <td>154</td>\n",
       "    </tr>\n",
       "    <tr>\n",
       "      <th>aligncenter</th>\n",
       "      <td>15</td>\n",
       "      <td>95</td>\n",
       "      <td>0</td>\n",
       "      <td>63</td>\n",
       "      <td>173</td>\n",
       "    </tr>\n",
       "    <tr>\n",
       "      <th>used</th>\n",
       "      <td>21</td>\n",
       "      <td>95</td>\n",
       "      <td>14</td>\n",
       "      <td>143</td>\n",
       "      <td>273</td>\n",
       "    </tr>\n",
       "    <tr>\n",
       "      <th>support</th>\n",
       "      <td>51</td>\n",
       "      <td>94</td>\n",
       "      <td>6</td>\n",
       "      <td>57</td>\n",
       "      <td>208</td>\n",
       "    </tr>\n",
       "    <tr>\n",
       "      <th>1</th>\n",
       "      <td>24</td>\n",
       "      <td>94</td>\n",
       "      <td>19</td>\n",
       "      <td>268</td>\n",
       "      <td>405</td>\n",
       "    </tr>\n",
       "    <tr>\n",
       "      <th>analysis</th>\n",
       "      <td>5</td>\n",
       "      <td>93</td>\n",
       "      <td>15</td>\n",
       "      <td>2</td>\n",
       "      <td>115</td>\n",
       "    </tr>\n",
       "    <tr>\n",
       "      <th>number</th>\n",
       "      <td>7</td>\n",
       "      <td>88</td>\n",
       "      <td>4</td>\n",
       "      <td>65</td>\n",
       "      <td>164</td>\n",
       "    </tr>\n",
       "    <tr>\n",
       "      <th>project</th>\n",
       "      <td>64</td>\n",
       "      <td>88</td>\n",
       "      <td>11</td>\n",
       "      <td>45</td>\n",
       "      <td>208</td>\n",
       "    </tr>\n",
       "    <tr>\n",
       "      <th>address</th>\n",
       "      <td>8</td>\n",
       "      <td>88</td>\n",
       "      <td>0</td>\n",
       "      <td>81</td>\n",
       "      <td>177</td>\n",
       "    </tr>\n",
       "    <tr>\n",
       "      <th>package</th>\n",
       "      <td>10</td>\n",
       "      <td>87</td>\n",
       "      <td>73</td>\n",
       "      <td>15</td>\n",
       "      <td>185</td>\n",
       "    </tr>\n",
       "    <tr>\n",
       "      <th>algorithm</th>\n",
       "      <td>1</td>\n",
       "      <td>87</td>\n",
       "      <td>5</td>\n",
       "      <td>3</td>\n",
       "      <td>96</td>\n",
       "    </tr>\n",
       "    <tr>\n",
       "      <th>source</th>\n",
       "      <td>31</td>\n",
       "      <td>87</td>\n",
       "      <td>16</td>\n",
       "      <td>42</td>\n",
       "      <td>176</td>\n",
       "    </tr>\n",
       "    <tr>\n",
       "      <th>name</th>\n",
       "      <td>15</td>\n",
       "      <td>86</td>\n",
       "      <td>9</td>\n",
       "      <td>118</td>\n",
       "      <td>228</td>\n",
       "    </tr>\n",
       "    <tr>\n",
       "      <th>see</th>\n",
       "      <td>40</td>\n",
       "      <td>83</td>\n",
       "      <td>21</td>\n",
       "      <td>55</td>\n",
       "      <td>199</td>\n",
       "    </tr>\n",
       "    <tr>\n",
       "      <th>best</th>\n",
       "      <td>4</td>\n",
       "      <td>81</td>\n",
       "      <td>2</td>\n",
       "      <td>21</td>\n",
       "      <td>108</td>\n",
       "    </tr>\n",
       "    <tr>\n",
       "      <th>available</th>\n",
       "      <td>18</td>\n",
       "      <td>81</td>\n",
       "      <td>7</td>\n",
       "      <td>54</td>\n",
       "      <td>160</td>\n",
       "    </tr>\n",
       "    <tr>\n",
       "      <th>img</th>\n",
       "      <td>38</td>\n",
       "      <td>80</td>\n",
       "      <td>9</td>\n",
       "      <td>83</td>\n",
       "      <td>210</td>\n",
       "    </tr>\n",
       "    <tr>\n",
       "      <th>deep</th>\n",
       "      <td>1</td>\n",
       "      <td>79</td>\n",
       "      <td>3</td>\n",
       "      <td>3</td>\n",
       "      <td>86</td>\n",
       "    </tr>\n",
       "    <tr>\n",
       "      <th>processing</th>\n",
       "      <td>9</td>\n",
       "      <td>78</td>\n",
       "      <td>1</td>\n",
       "      <td>15</td>\n",
       "      <td>103</td>\n",
       "    </tr>\n",
       "  </tbody>\n",
       "</table>\n",
       "</div>"
      ],
      "text/plain": [
       "                    java  python   r  javascript  all_content\n",
       "yes                    0    1014   0           9         1023\n",
       "unknown                0     626   0           3          629\n",
       "data                  25     430  99         346          900\n",
       "api                   33     423   1          45          502\n",
       "learning               1     388   9           3          401\n",
       "apikey                 0     341   0           1          342\n",
       "machine                5     334   7          17          363\n",
       "video                  0     291   0          12          303\n",
       "library               17     290   6          27          340\n",
       "python                 5     270   7           2          284\n",
       "use                   84     219  54         300          657\n",
       "using                 37     193  35         160          425\n",
       "file                  25     191  27         107          350\n",
       "model                  1     180  80           6          267\n",
       "format                 3     171   6          18          198\n",
       "deprecated             4     167  11           2          184\n",
       "open                  22     165   9          28          224\n",
       "code                  45     150  23          99          317\n",
       "language              12     143   2          14          171\n",
       "network                7     137   1          57          202\n",
       "information           25     135   5          28          193\n",
       "download              16     118   4          17          155\n",
       "neural                 0     118   0           0          118\n",
       "default                8     116  12         127          263\n",
       "also                  28     112   8          88          236\n",
       "version               39     112  34          57          242\n",
       "oauth                  0     110   0           1          111\n",
       "install               18     104  43          47          212\n",
       "hrefhttpsgithubcom     8     102   3          33          146\n",
       "framework             12     100   3           8          123\n",
       "ip                     6      97   0          90          193\n",
       "image                 13      96   9          36          154\n",
       "aligncenter           15      95   0          63          173\n",
       "used                  21      95  14         143          273\n",
       "support               51      94   6          57          208\n",
       "1                     24      94  19         268          405\n",
       "analysis               5      93  15           2          115\n",
       "number                 7      88   4          65          164\n",
       "project               64      88  11          45          208\n",
       "address                8      88   0          81          177\n",
       "package               10      87  73          15          185\n",
       "algorithm              1      87   5           3           96\n",
       "source                31      87  16          42          176\n",
       "name                  15      86   9         118          228\n",
       "see                   40      83  21          55          199\n",
       "best                   4      81   2          21          108\n",
       "available             18      81   7          54          160\n",
       "img                   38      80   9          83          210\n",
       "deep                   1      79   3           3           86\n",
       "processing             9      78   1          15          103"
      ]
     },
     "execution_count": 20,
     "metadata": {},
     "output_type": "execute_result"
    }
   ],
   "source": [
    "word_counts.sort_values('python', ascending = False).head(50)"
   ]
  },
  {
   "cell_type": "code",
   "execution_count": 21,
   "metadata": {},
   "outputs": [],
   "source": [
    "#type 20 words for python\n",
    "python_top_20 = word_counts.python.sort_values(ascending = False).head(40)"
   ]
  },
  {
   "cell_type": "code",
   "execution_count": 22,
   "metadata": {},
   "outputs": [],
   "source": [
    "#java top 20 words\n",
    "java_top_20 = word_counts.java.sort_values(ascending = False).head(40)"
   ]
  },
  {
   "cell_type": "code",
   "execution_count": 23,
   "metadata": {},
   "outputs": [],
   "source": [
    "#javascript top 20 words\n",
    "javascript_top_20 = word_counts.javascript.sort_values(ascending = False).head(40)"
   ]
  },
  {
   "cell_type": "code",
   "execution_count": 24,
   "metadata": {},
   "outputs": [],
   "source": [
    "#r top 20 words\n",
    "r_top_20 = word_counts.r.sort_values(ascending = False).head(40)"
   ]
  },
  {
   "cell_type": "code",
   "execution_count": 25,
   "metadata": {},
   "outputs": [],
   "source": [
    "# function to graph ngrams\n",
    "def ngram_charts(content, n):\n",
    "    content_word_str = ' '.join(content)\n",
    "    ngrams = (pd.Series(nltk.ngrams(content_word_str, n)).value_counts())\n",
    "    ngrams.plot.barh()\n",
    "\n"
   ]
  },
  {
   "cell_type": "code",
   "execution_count": 26,
   "metadata": {},
   "outputs": [],
   "source": [
    "#function to create word clouds\n",
    "def word_cloud(word_string, name):\n",
    "    from wordcloud import WordCloud\n",
    "    img = WordCloud(background_color='white', width=800, height=600).generate(word_string)\n",
    "    print('-------------------')\n",
    "    print(f'{name}')\n",
    "    print('-------------------')\n",
    "    plt.imshow(img)\n",
    "    plt.axis('off')"
   ]
  },
  {
   "cell_type": "code",
   "execution_count": 27,
   "metadata": {},
   "outputs": [],
   "source": [
    "def df_to_wordcloud(df, language = None):\n",
    "    if language: \n",
    "        df = df[df.language_cleaned == language]\n",
    "    else:\n",
    "        language = 'all_language'\n",
    "    to_list = ''\n",
    "    for readme in df.readme_contents_cleaned:\n",
    "        to_list += readme\n",
    "    word_cloud(to_list,language)"
   ]
  },
  {
   "cell_type": "code",
   "execution_count": 28,
   "metadata": {},
   "outputs": [
    {
     "name": "stdout",
     "output_type": "stream",
     "text": [
      "-------------------\n",
      "python\n",
      "-------------------\n"
     ]
    },
    {
     "data": {
      "image/png": "[encoded data removed]",
      "text/plain": [
       "<Figure size 432x288 with 1 Axes>"
      ]
     },
     "metadata": {
      "needs_background": "light"
     },
     "output_type": "display_data"
    }
   ],
   "source": [
    "df_to_wordcloud(df, language = 'python')"
   ]
  },
  {
   "cell_type": "markdown",
   "metadata": {},
   "source": [
    "## Bigrams"
   ]
  },
  {
   "cell_type": "code",
   "execution_count": 29,
   "metadata": {},
   "outputs": [
    {
     "data": {
      "text/plain": [
       "(open, source)                              10\n",
       "(spring, boot)                              10\n",
       "(make, sure)                                 9\n",
       "(srchttpscloudgithu, busercontentcomass)     8\n",
       "(p, p)                                       7\n",
       "dtype: int64"
      ]
     },
     "execution_count": 29,
     "metadata": {},
     "output_type": "execute_result"
    }
   ],
   "source": [
    "java_bigrams = (pd.Series(nltk.ngrams(java_words, 2))\n",
    "                      .value_counts()\n",
    "                      .head(10))\n",
    "\n",
    "java_bigrams.tail()"
   ]
  },
  {
   "cell_type": "code",
   "execution_count": 30,
   "metadata": {},
   "outputs": [
    {
     "data": {
      "text/plain": [
       "<AxesSubplot:>"
      ]
     },
     "execution_count": 30,
     "metadata": {},
     "output_type": "execute_result"
    },
    {
     "data": {
      "image/png": "[encoded data removed]",
      "text/plain": [
       "<Figure size 432x288 with 1 Axes>"
      ]
     },
     "metadata": {
      "needs_background": "light"
     },
     "output_type": "display_data"
    }
   ],
   "source": [
    "java_bigrams.plot.barh()"
   ]
  },
  {
   "cell_type": "code",
   "execution_count": 31,
   "metadata": {},
   "outputs": [
    {
     "data": {
      "text/plain": [
       "(yes, unknown)               536\n",
       "(apikey, yes)                319\n",
       "(machine, learning)          260\n",
       "(yes, yes)                   211\n",
       "(oauth, yes)                 106\n",
       "(neural, network)            103\n",
       "(natural, language)           69\n",
       "(generalpurpose, machine)     60\n",
       "(deep, learning)              54\n",
       "(data, analysis)              50\n",
       "dtype: int64"
      ]
     },
     "execution_count": 31,
     "metadata": {},
     "output_type": "execute_result"
    }
   ],
   "source": [
    "python_bigrams = (pd.Series(nltk.ngrams(python_words, 2))\n",
    "                      .value_counts()\n",
    "                      .head(10))\n",
    "\n",
    "python_bigrams.head(40)"
   ]
  },
  {
   "cell_type": "code",
   "execution_count": 32,
   "metadata": {},
   "outputs": [
    {
     "data": {
      "text/plain": [
       "<AxesSubplot:>"
      ]
     },
     "execution_count": 32,
     "metadata": {},
     "output_type": "execute_result"
    },
    {
     "data": {
      "image/png": "[encoded data removed]",
      "text/plain": [
       "<Figure size 432x288 with 1 Axes>"
      ]
     },
     "metadata": {
      "needs_background": "light"
     },
     "output_type": "display_data"
    }
   ],
   "source": [
    "python_bigrams.plot.barh()"
   ]
  },
  {
   "cell_type": "code",
   "execution_count": 33,
   "metadata": {},
   "outputs": [
    {
     "data": {
      "text/plain": [
       "(freewarefreeware, icon)                    364\n",
       "(target_blankimg, srchttpsopencollec)       335\n",
       "(ul, li)                                    294\n",
       "(opensource, softwareoss)                   235\n",
       "(softwareoss, iconhttpsgithubcom)           205\n",
       "(javascript, bad)                           111\n",
       "(hrefhttpsopencolle, ctivecomwebpackbac)    102\n",
       "(srchttpsopencollec, tivecomwebpackspon)    102\n",
       "(hrefhttpsopencolle, ctivecomwebpackspo)    102\n",
       "(srchttpsopencollec, tivecomwebpackback)    102\n",
       "dtype: int64"
      ]
     },
     "execution_count": 33,
     "metadata": {},
     "output_type": "execute_result"
    }
   ],
   "source": [
    "javascript_bigrams = (pd.Series(nltk.ngrams(javascript_words, 2))\n",
    "                      .value_counts()\n",
    "                      .head(10))\n",
    "\n",
    "javascript_bigrams.head(40)"
   ]
  },
  {
   "cell_type": "code",
   "execution_count": 34,
   "metadata": {},
   "outputs": [
    {
     "data": {
      "text/plain": [
       "<AxesSubplot:>"
      ]
     },
     "execution_count": 34,
     "metadata": {},
     "output_type": "execute_result"
    },
    {
     "data": {
      "image/png": "[encoded data removed]",
      "text/plain": [
       "<Figure size 432x288 with 1 Axes>"
      ]
     },
     "metadata": {
      "needs_background": "light"
     },
     "output_type": "display_data"
    }
   ],
   "source": [
    "javascript_bigrams.plot.barh()"
   ]
  },
  {
   "cell_type": "code",
   "execution_count": 35,
   "metadata": {},
   "outputs": [
    {
     "data": {
      "text/plain": [
       "(data, mtcars)                              19\n",
       "(time, series)                              19\n",
       "(hp, disp)                                  15\n",
       "(disp, data)                                15\n",
       "(supernovalmmpg, hp)                        14\n",
       "(use, package)                              11\n",
       "(r, evalfalse)                              11\n",
       "(deprecated, use)                           11\n",
       "(badgehttpsimgshiel, dsiostaticv1stylef)    10\n",
       "(mtcars, type)                              10\n",
       "dtype: int64"
      ]
     },
     "execution_count": 35,
     "metadata": {},
     "output_type": "execute_result"
    }
   ],
   "source": [
    "r_bigrams = (pd.Series(nltk.ngrams(r_words, 2))\n",
    "                      .value_counts()\n",
    "                      .head(10))\n",
    "\n",
    "r_bigrams.head(40)"
   ]
  },
  {
   "cell_type": "code",
   "execution_count": 36,
   "metadata": {},
   "outputs": [
    {
     "data": {
      "text/plain": [
       "<AxesSubplot:>"
      ]
     },
     "execution_count": 36,
     "metadata": {},
     "output_type": "execute_result"
    },
    {
     "data": {
      "image/png": "[encoded data removed]",
      "text/plain": [
       "<Figure size 432x288 with 1 Axes>"
      ]
     },
     "metadata": {
      "needs_background": "light"
     },
     "output_type": "display_data"
    }
   ],
   "source": [
    "r_bigrams.plot.barh()"
   ]
  },
  {
   "cell_type": "code",
   "execution_count": 37,
   "metadata": {},
   "outputs": [
    {
     "data": {
      "text/plain": [
       "str"
      ]
     },
     "execution_count": 37,
     "metadata": {},
     "output_type": "execute_result"
    }
   ],
   "source": [
    "r_words_string = ' '.join(r_words)\n",
    "python_words_string = ' '.join(python_words)\n",
    "java_words_string = ' '.join(java_words)\n",
    "javascript_words_string = ' '.join(javascript_words)\n",
    "\n",
    "type(python_words_string)"
   ]
  },
  {
   "cell_type": "markdown",
   "metadata": {},
   "source": [
    "### Filtering Down to language specific words."
   ]
  },
  {
   "cell_type": "markdown",
   "metadata": {},
   "source": [
    "-----"
   ]
  },
  {
   "cell_type": "code",
   "execution_count": 38,
   "metadata": {},
   "outputs": [],
   "source": [
    "commonlist_pr = []\n",
    "for i in python_words:\n",
    "    for j in r_words:\n",
    "        if i == j:\n",
    "            commonlist_pr.append(i)\n",
    "            \n",
    "commonlist_pr = pd.DataFrame(commonlist_pr)\n",
    "commonlist_pr = commonlist_pr[0].drop_duplicates().values\n",
    "list1 = commonlist_pr.tolist()"
   ]
  },
  {
   "cell_type": "code",
   "execution_count": 39,
   "metadata": {},
   "outputs": [],
   "source": [
    "commonlist_pj = []\n",
    "for i in python_words:\n",
    "    for j in java_words:\n",
    "        if i == j:\n",
    "            commonlist_pj.append(i)\n",
    "            \n",
    "commonlist_pj = pd.DataFrame(commonlist_pj)\n",
    "commonlist_pj = commonlist_pj[0].drop_duplicates().values\n",
    "list2 = commonlist_pj.tolist()"
   ]
  },
  {
   "cell_type": "code",
   "execution_count": 40,
   "metadata": {},
   "outputs": [
    {
     "ename": "KeyboardInterrupt",
     "evalue": "",
     "output_type": "error",
     "traceback": [
      "\u001b[0;31m---------------------------------------------------------------------------\u001b[0m",
      "\u001b[0;31mKeyboardInterrupt\u001b[0m                         Traceback (most recent call last)",
      "\u001b[0;32m<ipython-input-40-6fd50a587d7b>\u001b[0m in \u001b[0;36m<module>\u001b[0;34m\u001b[0m\n\u001b[1;32m      2\u001b[0m \u001b[0;32mfor\u001b[0m \u001b[0mi\u001b[0m \u001b[0;32min\u001b[0m \u001b[0mpython_words\u001b[0m\u001b[0;34m:\u001b[0m\u001b[0;34m\u001b[0m\u001b[0;34m\u001b[0m\u001b[0m\n\u001b[1;32m      3\u001b[0m     \u001b[0;32mfor\u001b[0m \u001b[0mj\u001b[0m \u001b[0;32min\u001b[0m \u001b[0mjavascript_words\u001b[0m\u001b[0;34m:\u001b[0m\u001b[0;34m\u001b[0m\u001b[0;34m\u001b[0m\u001b[0m\n\u001b[0;32m----> 4\u001b[0;31m         \u001b[0;32mif\u001b[0m \u001b[0mi\u001b[0m \u001b[0;34m==\u001b[0m \u001b[0mj\u001b[0m\u001b[0;34m:\u001b[0m\u001b[0;34m\u001b[0m\u001b[0;34m\u001b[0m\u001b[0m\n\u001b[0m\u001b[1;32m      5\u001b[0m             \u001b[0mcommonlist_pjs\u001b[0m\u001b[0;34m.\u001b[0m\u001b[0mappend\u001b[0m\u001b[0;34m(\u001b[0m\u001b[0mi\u001b[0m\u001b[0;34m)\u001b[0m\u001b[0;34m\u001b[0m\u001b[0;34m\u001b[0m\u001b[0m\n\u001b[1;32m      6\u001b[0m \u001b[0;34m\u001b[0m\u001b[0m\n",
      "\u001b[0;31mKeyboardInterrupt\u001b[0m: "
     ]
    }
   ],
   "source": [
    "commonlist_pjs = []\n",
    "for i in python_words:\n",
    "    for j in javascript_words:\n",
    "        if i == j:\n",
    "            commonlist_pjs.append(i)\n",
    "            \n",
    "commonlist_pjs = pd.DataFrame(commonlist_pjs)\n",
    "commonlist_pjs = commonlist_pjs[0].drop_duplicates().values\n",
    "list3 = commonlist_pjs.tolist()\n"
   ]
  },
  {
   "cell_type": "code",
   "execution_count": null,
   "metadata": {},
   "outputs": [],
   "source": [
    "#create a df which will be python words not in list 1 list 2 list3\n",
    "python_only_words = []\n",
    "for i in python_words:\n",
    "    if i not in list1 and i not in list2 and i not in list3:\n",
    "        python_only_words.append(i)\n",
    "        \n",
    "        "
   ]
  },
  {
   "cell_type": "code",
   "execution_count": null,
   "metadata": {},
   "outputs": [],
   "source": [
    "python_only = ' '.join(python_only_words)"
   ]
  },
  {
   "cell_type": "code",
   "execution_count": null,
   "metadata": {},
   "outputs": [],
   "source": [
    "word_cloud(python_only, 'python')"
   ]
  },
  {
   "cell_type": "markdown",
   "metadata": {},
   "source": [
    "------"
   ]
  },
  {
   "cell_type": "code",
   "execution_count": null,
   "metadata": {},
   "outputs": [],
   "source": [
    "commonlist_jr = []\n",
    "for i in java_words:\n",
    "    for j in r_words:\n",
    "        if i == j:\n",
    "            commonlist_jr.append(i)\n",
    "            \n",
    "commonlist_jr = pd.DataFrame(commonlist_jr)\n",
    "commonlist_jr = commonlist_jr[0].drop_duplicates().values\n",
    "list1 = commonlist_jr.tolist()"
   ]
  },
  {
   "cell_type": "code",
   "execution_count": null,
   "metadata": {},
   "outputs": [],
   "source": [
    "commonlist_jjs = []\n",
    "for i in java_words:\n",
    "    for j in javascript_words:\n",
    "        if i == j:\n",
    "            commonlist_jjs.append(i)\n",
    "            \n",
    "commonlist_jjs = pd.DataFrame(commonlist_jjs)\n",
    "commonlist_jjs = commonlist_jjs[0].drop_duplicates().values\n",
    "list2 = commonlist_jjs.tolist()"
   ]
  },
  {
   "cell_type": "code",
   "execution_count": null,
   "metadata": {},
   "outputs": [],
   "source": [
    "commonlist_jp = []\n",
    "for i in java_words:\n",
    "    for j in python_words:\n",
    "        if i == j:\n",
    "            commonlist_jp.append(i)\n",
    "            \n",
    "commonlist_jp = pd.DataFrame(commonlist_jp)\n",
    "commonlist_jp = commonlist_jp[0].drop_duplicates().values\n",
    "list3 = commonlist_jp.tolist()"
   ]
  },
  {
   "cell_type": "code",
   "execution_count": null,
   "metadata": {},
   "outputs": [],
   "source": [
    "#create a df which will be python words not in list 1 list 2 list3\n",
    "java_only_words = []\n",
    "for i in java_words:\n",
    "    if i not in list1 and i not in list2 and i not in list3:\n",
    "        java_only_words.append(i)\n",
    "        \n",
    "        "
   ]
  },
  {
   "cell_type": "code",
   "execution_count": null,
   "metadata": {},
   "outputs": [],
   "source": [
    "#note maven\n",
    "pd.DataFrame(java_only_words).value_counts().head(50)"
   ]
  },
  {
   "cell_type": "code",
   "execution_count": null,
   "metadata": {},
   "outputs": [],
   "source": [
    "java_only = ' '.join(java_only_words)"
   ]
  },
  {
   "cell_type": "code",
   "execution_count": null,
   "metadata": {},
   "outputs": [],
   "source": [
    "j_only = java_only.split()"
   ]
  },
  {
   "cell_type": "code",
   "execution_count": null,
   "metadata": {},
   "outputs": [],
   "source": [
    "j_only_bigrams = (pd.Series(nltk.ngrams(j_only, 3))\n",
    "                      .value_counts()\n",
    "                      .head(20))"
   ]
  },
  {
   "cell_type": "code",
   "execution_count": null,
   "metadata": {},
   "outputs": [],
   "source": [
    "j_only_bigrams.plot.barh()"
   ]
  },
  {
   "cell_type": "code",
   "execution_count": null,
   "metadata": {},
   "outputs": [],
   "source": [
    "word_cloud(java_only, 'java')"
   ]
  },
  {
   "cell_type": "markdown",
   "metadata": {},
   "source": [
    "-------"
   ]
  },
  {
   "cell_type": "code",
   "execution_count": null,
   "metadata": {},
   "outputs": [],
   "source": [
    "commonlist_rj = []\n",
    "for i in r_words:\n",
    "    for j in java_words:\n",
    "        if i == j:\n",
    "            commonlist_rj.append(i)\n",
    "            \n",
    "commonlist_rj = pd.DataFrame(commonlist_rj)\n",
    "commonlist_rj = commonlist_rj[0].drop_duplicates().values\n",
    "list1 = commonlist_rj.tolist()"
   ]
  },
  {
   "cell_type": "code",
   "execution_count": null,
   "metadata": {},
   "outputs": [],
   "source": [
    "commonlist_rjs = []\n",
    "for i in r_words:\n",
    "    for j in javascript_words:\n",
    "        if i == j:\n",
    "            commonlist_rjs.append(i)\n",
    "            \n",
    "commonlist_rjs = pd.DataFrame(commonlist_rjs)\n",
    "commonlist_rjs = commonlist_rjs[0].drop_duplicates().values\n",
    "list2 = commonlist_rjs.tolist()"
   ]
  },
  {
   "cell_type": "code",
   "execution_count": null,
   "metadata": {},
   "outputs": [],
   "source": [
    "commonlist_rp = []\n",
    "for i in r_words:\n",
    "    for j in python_words:\n",
    "        if i == j:\n",
    "            commonlist_rp.append(i)\n",
    "            \n",
    "commonlist_rp = pd.DataFrame(commonlist_rp)\n",
    "commonlist_rp = commonlist_rp[0].drop_duplicates().values\n",
    "list3 = commonlist_rp.tolist()"
   ]
  },
  {
   "cell_type": "code",
   "execution_count": null,
   "metadata": {},
   "outputs": [],
   "source": [
    "#create a df which will be python words not in list 1 list 2 list3\n",
    "r_only_words = []\n",
    "for i in r_words:\n",
    "    if i not in list1 and i not in list2 and i not in list3:\n",
    "        r_only_words.append(i)\n",
    "        \n",
    "        "
   ]
  },
  {
   "cell_type": "code",
   "execution_count": null,
   "metadata": {},
   "outputs": [],
   "source": [
    "r_only = ' '.join(r_only_words)"
   ]
  },
  {
   "cell_type": "code",
   "execution_count": null,
   "metadata": {},
   "outputs": [],
   "source": [
    "r_only_words = r_only.split()"
   ]
  },
  {
   "cell_type": "code",
   "execution_count": null,
   "metadata": {},
   "outputs": [],
   "source": [
    "r_only_bigrams = (pd.Series(nltk.ngrams(r_only_words, 3))\n",
    "                      .value_counts()\n",
    "                      .head(20))"
   ]
  },
  {
   "cell_type": "code",
   "execution_count": null,
   "metadata": {},
   "outputs": [],
   "source": [
    "r_only_bigrams.plot.barh()"
   ]
  },
  {
   "cell_type": "code",
   "execution_count": null,
   "metadata": {},
   "outputs": [],
   "source": [
    "r_only = ' '.join(r_only_words)"
   ]
  },
  {
   "cell_type": "code",
   "execution_count": null,
   "metadata": {},
   "outputs": [],
   "source": [
    "word_cloud(r_only, 'r')"
   ]
  },
  {
   "cell_type": "markdown",
   "metadata": {},
   "source": [
    "------"
   ]
  },
  {
   "cell_type": "code",
   "execution_count": null,
   "metadata": {},
   "outputs": [],
   "source": [
    "commonlist_jsr = []\n",
    "for i in javascript_words:\n",
    "    for j in r_words:\n",
    "        if i == j:\n",
    "            commonlist_jsr.append(i)\n",
    "            \n",
    "commonlist_jsr = pd.DataFrame(commonlist_jsr)\n",
    "commonlist_jsr = commonlist_jsr[0].drop_duplicates().values\n",
    "list1 = commonlist_jsr.tolist()"
   ]
  },
  {
   "cell_type": "code",
   "execution_count": null,
   "metadata": {},
   "outputs": [],
   "source": [
    "commonlist_jsj = []\n",
    "for i in javascript_words:\n",
    "    for j in java_words:\n",
    "        if i == j:\n",
    "            commonlist_jsj.append(i)\n",
    "            \n",
    "commonlist_jsj = pd.DataFrame(commonlist_jsj)\n",
    "commonlist_jsj\n",
    "commonlist_jsj = commonlist_jsj[0].drop_duplicates().values\n",
    "list2 = commonlist_jsj.tolist()"
   ]
  },
  {
   "cell_type": "code",
   "execution_count": null,
   "metadata": {},
   "outputs": [],
   "source": [
    "commonlist_jsp = []\n",
    "for i in javascript_words:\n",
    "    for j in python_words:\n",
    "        if i == j:\n",
    "            commonlist_jsp.append(i)\n",
    "            \n",
    "commonlist_jsp = pd.DataFrame(commonlist_jsp)\n",
    "commonlist_jsp = commonlist_jsp[0].drop_duplicates().values\n",
    "list3 = commonlist_jsp.tolist()"
   ]
  },
  {
   "cell_type": "code",
   "execution_count": null,
   "metadata": {},
   "outputs": [],
   "source": [
    "#create a df which will be python words not in list 1 list 2 list3\n",
    "javascript_only_words = []\n",
    "for i in javascript_words:\n",
    "    if i not in list1 and list2 and list3:\n",
    "        javascript_only_words.append(i)\n",
    "        \n",
    "        "
   ]
  },
  {
   "cell_type": "code",
   "execution_count": null,
   "metadata": {},
   "outputs": [],
   "source": [
    "#note maven\n",
    "pd.DataFrame(javascript_only_words).value_counts(normalize= True).head(50)"
   ]
  },
  {
   "cell_type": "code",
   "execution_count": null,
   "metadata": {},
   "outputs": [],
   "source": [
    "javascript_only = ' '.join(javascript_only_words)"
   ]
  },
  {
   "cell_type": "code",
   "execution_count": null,
   "metadata": {},
   "outputs": [],
   "source": [
    "js_only = javascript_only.split()"
   ]
  },
  {
   "cell_type": "code",
   "execution_count": null,
   "metadata": {},
   "outputs": [],
   "source": [
    "js_only_bigrams = (pd.Series(nltk.ngrams(js_only, 3))\n",
    "                      .value_counts()\n",
    "                      .head(10))"
   ]
  },
  {
   "cell_type": "code",
   "execution_count": null,
   "metadata": {},
   "outputs": [],
   "source": [
    "js_only_bigrams.plot.barh()"
   ]
  },
  {
   "cell_type": "code",
   "execution_count": null,
   "metadata": {},
   "outputs": [],
   "source": [
    "word_cloud(javascript_only, 'javascript')"
   ]
  },
  {
   "cell_type": "code",
   "execution_count": null,
   "metadata": {},
   "outputs": [],
   "source": [
    "common = []\n",
    "for i in all_content_words:\n",
    "    if i in java_words:\n",
    "        if i in javascript_words:\n",
    "            if i in r_words:\n",
    "                if i in python_words:\n",
    "                    common.append(i)"
   ]
  },
  {
   "cell_type": "code",
   "execution_count": null,
   "metadata": {},
   "outputs": [],
   "source": [
    "common_top20 = pd.Series(common).value_counts().head(5).index.tolist()\n",
    "common_top20"
   ]
  },
  {
   "cell_type": "markdown",
   "metadata": {},
   "source": [
    "---"
   ]
  },
  {
   "cell_type": "markdown",
   "metadata": {},
   "source": [
    "-------"
   ]
  },
  {
   "cell_type": "markdown",
   "metadata": {},
   "source": [
    "# Modeling:"
   ]
  },
  {
   "cell_type": "markdown",
   "metadata": {},
   "source": [
    "### TF-IDF"
   ]
  },
  {
   "cell_type": "code",
   "execution_count": 41,
   "metadata": {},
   "outputs": [
    {
     "data": {
      "text/html": [
       "<div>\n",
       "<style scoped>\n",
       "    .dataframe tbody tr th:only-of-type {\n",
       "        vertical-align: middle;\n",
       "    }\n",
       "\n",
       "    .dataframe tbody tr th {\n",
       "        vertical-align: top;\n",
       "    }\n",
       "\n",
       "    .dataframe thead th {\n",
       "        text-align: right;\n",
       "    }\n",
       "</style>\n",
       "<table border=\"1\" class=\"dataframe\">\n",
       "  <thead>\n",
       "    <tr style=\"text-align: right;\">\n",
       "      <th></th>\n",
       "      <th>00</th>\n",
       "      <th>0000</th>\n",
       "      <th>000000000000000000</th>\n",
       "      <th>000000082ae3910733</th>\n",
       "      <th>0000149325location</th>\n",
       "      <th>00004566</th>\n",
       "      <th>0000512</th>\n",
       "      <th>0000708</th>\n",
       "      <th>0001</th>\n",
       "      <th>00025</th>\n",
       "      <th>...</th>\n",
       "      <th>zzsj9lhi6mh0se2noo</th>\n",
       "      <th>zzuy90jx4m3o5ilxvf</th>\n",
       "      <th>zzw50ihbyzxnlcnzli</th>\n",
       "      <th>zzxjgdnjralu9ljbuz</th>\n",
       "      <th>zzxk5o3mfmcdoljff6</th>\n",
       "      <th>zzxm52sbkygbdncxcy</th>\n",
       "      <th>zzxocesxnv6bm5u4vg</th>\n",
       "      <th>zzxq8clswxs5vzmzzz</th>\n",
       "      <th>zzxqgbxv0zxggbmftz</th>\n",
       "      <th>zzxrfdw5kzxjmbg93x</th>\n",
       "    </tr>\n",
       "  </thead>\n",
       "  <tbody>\n",
       "    <tr>\n",
       "      <th>0</th>\n",
       "      <td>0.0</td>\n",
       "      <td>0.0</td>\n",
       "      <td>0.0</td>\n",
       "      <td>0.0</td>\n",
       "      <td>0.0</td>\n",
       "      <td>0.0</td>\n",
       "      <td>0.0</td>\n",
       "      <td>0.0</td>\n",
       "      <td>0.0</td>\n",
       "      <td>0.0</td>\n",
       "      <td>...</td>\n",
       "      <td>0.0</td>\n",
       "      <td>0.0</td>\n",
       "      <td>0.0</td>\n",
       "      <td>0.0</td>\n",
       "      <td>0.0</td>\n",
       "      <td>0.0</td>\n",
       "      <td>0.0</td>\n",
       "      <td>0.0</td>\n",
       "      <td>0.0</td>\n",
       "      <td>0.0</td>\n",
       "    </tr>\n",
       "    <tr>\n",
       "      <th>1</th>\n",
       "      <td>0.0</td>\n",
       "      <td>0.0</td>\n",
       "      <td>0.0</td>\n",
       "      <td>0.0</td>\n",
       "      <td>0.0</td>\n",
       "      <td>0.0</td>\n",
       "      <td>0.0</td>\n",
       "      <td>0.0</td>\n",
       "      <td>0.0</td>\n",
       "      <td>0.0</td>\n",
       "      <td>...</td>\n",
       "      <td>0.0</td>\n",
       "      <td>0.0</td>\n",
       "      <td>0.0</td>\n",
       "      <td>0.0</td>\n",
       "      <td>0.0</td>\n",
       "      <td>0.0</td>\n",
       "      <td>0.0</td>\n",
       "      <td>0.0</td>\n",
       "      <td>0.0</td>\n",
       "      <td>0.0</td>\n",
       "    </tr>\n",
       "    <tr>\n",
       "      <th>2</th>\n",
       "      <td>0.0</td>\n",
       "      <td>0.0</td>\n",
       "      <td>0.0</td>\n",
       "      <td>0.0</td>\n",
       "      <td>0.0</td>\n",
       "      <td>0.0</td>\n",
       "      <td>0.0</td>\n",
       "      <td>0.0</td>\n",
       "      <td>0.0</td>\n",
       "      <td>0.0</td>\n",
       "      <td>...</td>\n",
       "      <td>0.0</td>\n",
       "      <td>0.0</td>\n",
       "      <td>0.0</td>\n",
       "      <td>0.0</td>\n",
       "      <td>0.0</td>\n",
       "      <td>0.0</td>\n",
       "      <td>0.0</td>\n",
       "      <td>0.0</td>\n",
       "      <td>0.0</td>\n",
       "      <td>0.0</td>\n",
       "    </tr>\n",
       "    <tr>\n",
       "      <th>3</th>\n",
       "      <td>0.0</td>\n",
       "      <td>0.0</td>\n",
       "      <td>0.0</td>\n",
       "      <td>0.0</td>\n",
       "      <td>0.0</td>\n",
       "      <td>0.0</td>\n",
       "      <td>0.0</td>\n",
       "      <td>0.0</td>\n",
       "      <td>0.0</td>\n",
       "      <td>0.0</td>\n",
       "      <td>...</td>\n",
       "      <td>0.0</td>\n",
       "      <td>0.0</td>\n",
       "      <td>0.0</td>\n",
       "      <td>0.0</td>\n",
       "      <td>0.0</td>\n",
       "      <td>0.0</td>\n",
       "      <td>0.0</td>\n",
       "      <td>0.0</td>\n",
       "      <td>0.0</td>\n",
       "      <td>0.0</td>\n",
       "    </tr>\n",
       "    <tr>\n",
       "      <th>4</th>\n",
       "      <td>0.0</td>\n",
       "      <td>0.0</td>\n",
       "      <td>0.0</td>\n",
       "      <td>0.0</td>\n",
       "      <td>0.0</td>\n",
       "      <td>0.0</td>\n",
       "      <td>0.0</td>\n",
       "      <td>0.0</td>\n",
       "      <td>0.0</td>\n",
       "      <td>0.0</td>\n",
       "      <td>...</td>\n",
       "      <td>0.0</td>\n",
       "      <td>0.0</td>\n",
       "      <td>0.0</td>\n",
       "      <td>0.0</td>\n",
       "      <td>0.0</td>\n",
       "      <td>0.0</td>\n",
       "      <td>0.0</td>\n",
       "      <td>0.0</td>\n",
       "      <td>0.0</td>\n",
       "      <td>0.0</td>\n",
       "    </tr>\n",
       "    <tr>\n",
       "      <th>...</th>\n",
       "      <td>...</td>\n",
       "      <td>...</td>\n",
       "      <td>...</td>\n",
       "      <td>...</td>\n",
       "      <td>...</td>\n",
       "      <td>...</td>\n",
       "      <td>...</td>\n",
       "      <td>...</td>\n",
       "      <td>...</td>\n",
       "      <td>...</td>\n",
       "      <td>...</td>\n",
       "      <td>...</td>\n",
       "      <td>...</td>\n",
       "      <td>...</td>\n",
       "      <td>...</td>\n",
       "      <td>...</td>\n",
       "      <td>...</td>\n",
       "      <td>...</td>\n",
       "      <td>...</td>\n",
       "      <td>...</td>\n",
       "      <td>...</td>\n",
       "    </tr>\n",
       "    <tr>\n",
       "      <th>169</th>\n",
       "      <td>0.0</td>\n",
       "      <td>0.0</td>\n",
       "      <td>0.0</td>\n",
       "      <td>0.0</td>\n",
       "      <td>0.0</td>\n",
       "      <td>0.0</td>\n",
       "      <td>0.0</td>\n",
       "      <td>0.0</td>\n",
       "      <td>0.0</td>\n",
       "      <td>0.0</td>\n",
       "      <td>...</td>\n",
       "      <td>0.0</td>\n",
       "      <td>0.0</td>\n",
       "      <td>0.0</td>\n",
       "      <td>0.0</td>\n",
       "      <td>0.0</td>\n",
       "      <td>0.0</td>\n",
       "      <td>0.0</td>\n",
       "      <td>0.0</td>\n",
       "      <td>0.0</td>\n",
       "      <td>0.0</td>\n",
       "    </tr>\n",
       "    <tr>\n",
       "      <th>170</th>\n",
       "      <td>0.0</td>\n",
       "      <td>0.0</td>\n",
       "      <td>0.0</td>\n",
       "      <td>0.0</td>\n",
       "      <td>0.0</td>\n",
       "      <td>0.0</td>\n",
       "      <td>0.0</td>\n",
       "      <td>0.0</td>\n",
       "      <td>0.0</td>\n",
       "      <td>0.0</td>\n",
       "      <td>...</td>\n",
       "      <td>0.0</td>\n",
       "      <td>0.0</td>\n",
       "      <td>0.0</td>\n",
       "      <td>0.0</td>\n",
       "      <td>0.0</td>\n",
       "      <td>0.0</td>\n",
       "      <td>0.0</td>\n",
       "      <td>0.0</td>\n",
       "      <td>0.0</td>\n",
       "      <td>0.0</td>\n",
       "    </tr>\n",
       "    <tr>\n",
       "      <th>171</th>\n",
       "      <td>0.0</td>\n",
       "      <td>0.0</td>\n",
       "      <td>0.0</td>\n",
       "      <td>0.0</td>\n",
       "      <td>0.0</td>\n",
       "      <td>0.0</td>\n",
       "      <td>0.0</td>\n",
       "      <td>0.0</td>\n",
       "      <td>0.0</td>\n",
       "      <td>0.0</td>\n",
       "      <td>...</td>\n",
       "      <td>0.0</td>\n",
       "      <td>0.0</td>\n",
       "      <td>0.0</td>\n",
       "      <td>0.0</td>\n",
       "      <td>0.0</td>\n",
       "      <td>0.0</td>\n",
       "      <td>0.0</td>\n",
       "      <td>0.0</td>\n",
       "      <td>0.0</td>\n",
       "      <td>0.0</td>\n",
       "    </tr>\n",
       "    <tr>\n",
       "      <th>172</th>\n",
       "      <td>0.0</td>\n",
       "      <td>0.0</td>\n",
       "      <td>0.0</td>\n",
       "      <td>0.0</td>\n",
       "      <td>0.0</td>\n",
       "      <td>0.0</td>\n",
       "      <td>0.0</td>\n",
       "      <td>0.0</td>\n",
       "      <td>0.0</td>\n",
       "      <td>0.0</td>\n",
       "      <td>...</td>\n",
       "      <td>0.0</td>\n",
       "      <td>0.0</td>\n",
       "      <td>0.0</td>\n",
       "      <td>0.0</td>\n",
       "      <td>0.0</td>\n",
       "      <td>0.0</td>\n",
       "      <td>0.0</td>\n",
       "      <td>0.0</td>\n",
       "      <td>0.0</td>\n",
       "      <td>0.0</td>\n",
       "    </tr>\n",
       "    <tr>\n",
       "      <th>173</th>\n",
       "      <td>0.0</td>\n",
       "      <td>0.0</td>\n",
       "      <td>0.0</td>\n",
       "      <td>0.0</td>\n",
       "      <td>0.0</td>\n",
       "      <td>0.0</td>\n",
       "      <td>0.0</td>\n",
       "      <td>0.0</td>\n",
       "      <td>0.0</td>\n",
       "      <td>0.0</td>\n",
       "      <td>...</td>\n",
       "      <td>0.0</td>\n",
       "      <td>0.0</td>\n",
       "      <td>0.0</td>\n",
       "      <td>0.0</td>\n",
       "      <td>0.0</td>\n",
       "      <td>0.0</td>\n",
       "      <td>0.0</td>\n",
       "      <td>0.0</td>\n",
       "      <td>0.0</td>\n",
       "      <td>0.0</td>\n",
       "    </tr>\n",
       "  </tbody>\n",
       "</table>\n",
       "<p>174 rows × 98490 columns</p>\n",
       "</div>"
      ],
      "text/plain": [
       "      00  0000  000000000000000000  000000082ae3910733  0000149325location  \\\n",
       "0    0.0   0.0                 0.0                 0.0                 0.0   \n",
       "1    0.0   0.0                 0.0                 0.0                 0.0   \n",
       "2    0.0   0.0                 0.0                 0.0                 0.0   \n",
       "3    0.0   0.0                 0.0                 0.0                 0.0   \n",
       "4    0.0   0.0                 0.0                 0.0                 0.0   \n",
       "..   ...   ...                 ...                 ...                 ...   \n",
       "169  0.0   0.0                 0.0                 0.0                 0.0   \n",
       "170  0.0   0.0                 0.0                 0.0                 0.0   \n",
       "171  0.0   0.0                 0.0                 0.0                 0.0   \n",
       "172  0.0   0.0                 0.0                 0.0                 0.0   \n",
       "173  0.0   0.0                 0.0                 0.0                 0.0   \n",
       "\n",
       "     00004566  0000512  0000708  0001  00025  ...  zzsj9lhi6mh0se2noo  \\\n",
       "0         0.0      0.0      0.0   0.0    0.0  ...                 0.0   \n",
       "1         0.0      0.0      0.0   0.0    0.0  ...                 0.0   \n",
       "2         0.0      0.0      0.0   0.0    0.0  ...                 0.0   \n",
       "3         0.0      0.0      0.0   0.0    0.0  ...                 0.0   \n",
       "4         0.0      0.0      0.0   0.0    0.0  ...                 0.0   \n",
       "..        ...      ...      ...   ...    ...  ...                 ...   \n",
       "169       0.0      0.0      0.0   0.0    0.0  ...                 0.0   \n",
       "170       0.0      0.0      0.0   0.0    0.0  ...                 0.0   \n",
       "171       0.0      0.0      0.0   0.0    0.0  ...                 0.0   \n",
       "172       0.0      0.0      0.0   0.0    0.0  ...                 0.0   \n",
       "173       0.0      0.0      0.0   0.0    0.0  ...                 0.0   \n",
       "\n",
       "     zzuy90jx4m3o5ilxvf  zzw50ihbyzxnlcnzli  zzxjgdnjralu9ljbuz  \\\n",
       "0                   0.0                 0.0                 0.0   \n",
       "1                   0.0                 0.0                 0.0   \n",
       "2                   0.0                 0.0                 0.0   \n",
       "3                   0.0                 0.0                 0.0   \n",
       "4                   0.0                 0.0                 0.0   \n",
       "..                  ...                 ...                 ...   \n",
       "169                 0.0                 0.0                 0.0   \n",
       "170                 0.0                 0.0                 0.0   \n",
       "171                 0.0                 0.0                 0.0   \n",
       "172                 0.0                 0.0                 0.0   \n",
       "173                 0.0                 0.0                 0.0   \n",
       "\n",
       "     zzxk5o3mfmcdoljff6  zzxm52sbkygbdncxcy  zzxocesxnv6bm5u4vg  \\\n",
       "0                   0.0                 0.0                 0.0   \n",
       "1                   0.0                 0.0                 0.0   \n",
       "2                   0.0                 0.0                 0.0   \n",
       "3                   0.0                 0.0                 0.0   \n",
       "4                   0.0                 0.0                 0.0   \n",
       "..                  ...                 ...                 ...   \n",
       "169                 0.0                 0.0                 0.0   \n",
       "170                 0.0                 0.0                 0.0   \n",
       "171                 0.0                 0.0                 0.0   \n",
       "172                 0.0                 0.0                 0.0   \n",
       "173                 0.0                 0.0                 0.0   \n",
       "\n",
       "     zzxq8clswxs5vzmzzz  zzxqgbxv0zxggbmftz  zzxrfdw5kzxjmbg93x  \n",
       "0                   0.0                 0.0                 0.0  \n",
       "1                   0.0                 0.0                 0.0  \n",
       "2                   0.0                 0.0                 0.0  \n",
       "3                   0.0                 0.0                 0.0  \n",
       "4                   0.0                 0.0                 0.0  \n",
       "..                  ...                 ...                 ...  \n",
       "169                 0.0                 0.0                 0.0  \n",
       "170                 0.0                 0.0                 0.0  \n",
       "171                 0.0                 0.0                 0.0  \n",
       "172                 0.0                 0.0                 0.0  \n",
       "173                 0.0                 0.0                 0.0  \n",
       "\n",
       "[174 rows x 98490 columns]"
      ]
     },
     "execution_count": 41,
     "metadata": {},
     "output_type": "execute_result"
    }
   ],
   "source": [
    "tfidf = TfidfVectorizer(stop_words = ['data','use'])\n",
    "X_data_tfidf = tfidfs = tfidf.fit_transform(df.readme_contents_cleaned)\n",
    "y_data_tfidf = df.language_cleaned\n",
    "\n",
    "pd.DataFrame(tfidfs.todense(), columns=tfidf.get_feature_names())"
   ]
  },
  {
   "cell_type": "code",
   "execution_count": 42,
   "metadata": {},
   "outputs": [],
   "source": [
    "cv = CountVectorizer()\n",
    "#fitting on bag of words but can do it on tfidf scores \n",
    "X_data_bg = cv.fit_transform(df.readme_contents_cleaned)\n",
    "y_data_bg = df.language_cleaned"
   ]
  },
  {
   "cell_type": "code",
   "execution_count": 43,
   "metadata": {},
   "outputs": [],
   "source": [
    "def xy_split(X, y):\n",
    "    '''\n",
    "    This function take in the readme data acquired\n",
    "    performs a split and stratifies language_cleaned column.\n",
    "    Returns train, validate, and test dfs.\n",
    "    '''\n",
    "    X_train_validate, X_test, y_train_validate, y_test = train_test_split(X, y, test_size=.2, \n",
    "                                                                          random_state=254, \n",
    "                                                                          stratify = y)\n",
    "    X_train, X_validate, y_train, y_validate = train_test_split(X_train_validate, y_train_validate, test_size=.3,random_state=254,stratify= y_train_validate)\n",
    "    return X_train, X_validate, y_train, y_validate, X_test, y_test"
   ]
  },
  {
   "cell_type": "code",
   "execution_count": 44,
   "metadata": {},
   "outputs": [],
   "source": [
    "X_train, X_validate, y_train, y_validate, X_test, y_test = xy_split(X_data_tfidf,y_data_tfidf)"
   ]
  },
  {
   "cell_type": "markdown",
   "metadata": {},
   "source": [
    "## Creating the baseline"
   ]
  },
  {
   "cell_type": "code",
   "execution_count": null,
   "metadata": {},
   "outputs": [],
   "source": []
  },
  {
   "cell_type": "code",
   "execution_count": 45,
   "metadata": {},
   "outputs": [],
   "source": [
    "train['baseline'] = 'python'"
   ]
  },
  {
   "cell_type": "code",
   "execution_count": 46,
   "metadata": {},
   "outputs": [
    {
     "name": "stdout",
     "output_type": "stream",
     "text": [
      "Baseline accuracy: 0.2680\n"
     ]
    }
   ],
   "source": [
    "#create out thing\n",
    "baseline = DummyClassifier(strategy = 'constant', constant = 'python')\n",
    "#fit our thing\n",
    "baseline.fit(X_train, y_train)\n",
    "# what is the accuracy value \n",
    "print('Baseline accuracy: %.4f' % baseline.score(X_train, y_train))"
   ]
  },
  {
   "cell_type": "markdown",
   "metadata": {},
   "source": [
    "## Decision Tree Classifier"
   ]
  },
  {
   "cell_type": "code",
   "execution_count": null,
   "metadata": {},
   "outputs": [],
   "source": [
    "tree = DecisionTreeClassifier(max_depth = 3, min_samples_leaf = 7,)\n",
    "tree.fit(X_train, y_train)\n",
    "\n",
    "train = pd.DataFrame(dict(actual =y_train))\n",
    "train['predicted'] = tree.predict(X_train)\n",
    "\n",
    "print(f'train score :{tree.score(X_train, y_train):.2%}')\n",
    "print(f'validate score :{tree.score(X_validate, y_validate):.2%}')"
   ]
  },
  {
   "cell_type": "markdown",
   "metadata": {},
   "source": [
    "## KNN "
   ]
  },
  {
   "cell_type": "code",
   "execution_count": null,
   "metadata": {},
   "outputs": [],
   "source": [
    "knn = KNeighborsClassifier(n_neighbors=(11))\n",
    "knn.fit(X_train, y_train)\n",
    "\n",
    "train = pd.DataFrame(dict(actual =y_train))\n",
    "train['predicted'] = tree.predict(X_train)\n",
    "\n",
    "print(f'train score :{knn.score(X_train, y_train):.2%}')\n",
    "print(f'validate score :{knn.score(X_validate, y_validate):.2%}')"
   ]
  },
  {
   "cell_type": "markdown",
   "metadata": {},
   "source": [
    "# Evaluate on test"
   ]
  },
  {
   "cell_type": "code",
   "execution_count": null,
   "metadata": {},
   "outputs": [],
   "source": [
    "#create prediction column\n",
    "test['predicted'] = knn.predict(X_test)\n",
    "#accuracy score\n",
    "print(f'Test score: {knn.score(X_test, y_test):.2%}')"
   ]
  },
  {
   "cell_type": "code",
   "execution_count": null,
   "metadata": {},
   "outputs": [],
   "source": []
  },
  {
   "cell_type": "code",
   "execution_count": null,
   "metadata": {},
   "outputs": [],
   "source": []
  }
 ],
 "metadata": {
  "kernelspec": {
   "display_name": "Python 3",
   "language": "python",
   "name": "python3"
  },
  "language_info": {
   "codemirror_mode": {
    "name": "ipython",
    "version": 3
   },
   "file_extension": ".py",
   "mimetype": "text/x-python",
   "name": "python",
   "nbconvert_exporter": "python",
   "pygments_lexer": "ipython3",
   "version": "3.8.10"
  }
 },
 "nbformat": 4,
 "nbformat_minor": 4
}
