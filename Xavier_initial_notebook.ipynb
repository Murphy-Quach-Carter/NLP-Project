{
 "cells": [
  {
   "cell_type": "code",
   "execution_count": 1,
   "id": "15783b6c-dd1b-44d4-baa3-9b911ac37cd2",
   "metadata": {},
   "outputs": [],
   "source": [
    "import pandas as pd\n",
    "import numpy as np\n",
    "\n",
    "from env import github_token, github_username\n",
    "\n",
    "import acquire\n",
    "\n",
    "from requests import get\n",
    "from bs4 import BeautifulSoup"
   ]
  },
  {
   "cell_type": "code",
   "execution_count": 2,
   "id": "00fd38ce-5e72-4b26-a2a3-b33ae34cbe82",
   "metadata": {},
   "outputs": [
    {
     "data": {
      "text/html": [
       "<div>\n",
       "<style scoped>\n",
       "    .dataframe tbody tr th:only-of-type {\n",
       "        vertical-align: middle;\n",
       "    }\n",
       "\n",
       "    .dataframe tbody tr th {\n",
       "        vertical-align: top;\n",
       "    }\n",
       "\n",
       "    .dataframe thead th {\n",
       "        text-align: right;\n",
       "    }\n",
       "</style>\n",
       "<table border=\"1\" class=\"dataframe\">\n",
       "  <thead>\n",
       "    <tr style=\"text-align: right;\">\n",
       "      <th></th>\n",
       "      <th>repo</th>\n",
       "      <th>language</th>\n",
       "      <th>readme_contents</th>\n",
       "    </tr>\n",
       "  </thead>\n",
       "  <tbody>\n",
       "    <tr>\n",
       "      <th>0</th>\n",
       "      <td>carterrxavier/Zillow-Regression-Project</td>\n",
       "      <td>Jupyter Notebook</td>\n",
       "      <td># Zillow-Regression-Project\\n## Regression Pro...</td>\n",
       "    </tr>\n",
       "  </tbody>\n",
       "</table>\n",
       "</div>"
      ],
      "text/plain": [
       "                                      repo          language  \\\n",
       "0  carterrxavier/Zillow-Regression-Project  Jupyter Notebook   \n",
       "\n",
       "                                     readme_contents  \n",
       "0  # Zillow-Regression-Project\\n## Regression Pro...  "
      ]
     },
     "execution_count": 2,
     "metadata": {},
     "output_type": "execute_result"
    }
   ],
   "source": [
    "pd.DataFrame(acquire.scrape_github_data())"
   ]
  },
  {
   "cell_type": "code",
   "execution_count": 19,
   "id": "c642b707-a6ce-488a-b97b-6b95d3b8e1fe",
   "metadata": {},
   "outputs": [],
   "source": [
    "def git_list_of_repos(url):\n",
    "    url = url\n",
    "    headers = {\"Authorization\": f\"token {github_token}\", \"User-Agent\": github_username}\n",
    "    response = get(url, headers=headers)\n",
    "    soup = BeautifulSoup(response.text, 'html.parser')\n",
    "    the_list = soup.findAll('h1', class_='h3 lh-condensed')\n",
    "    repo_list = []\n",
    "    for i in range(len(the_list)):\n",
    "        repo_list.append(the_list[i].text.replace('\\n','').replace(' ',\"\"))"
   ]
  },
  {
   "cell_type": "code",
   "execution_count": null,
   "id": "87ee9304-a504-48cd-89b1-a536985c99db",
   "metadata": {},
   "outputs": [],
   "source": [
    "def"
   ]
  }
 ],
 "metadata": {
  "kernelspec": {
   "display_name": "Python 3",
   "language": "python",
   "name": "python3"
  },
  "language_info": {
   "codemirror_mode": {
    "name": "ipython",
    "version": 3
   },
   "file_extension": ".py",
   "mimetype": "text/x-python",
   "name": "python",
   "nbconvert_exporter": "python",
   "pygments_lexer": "ipython3",
   "version": "3.8.10"
  }
 },
 "nbformat": 4,
 "nbformat_minor": 5
}
